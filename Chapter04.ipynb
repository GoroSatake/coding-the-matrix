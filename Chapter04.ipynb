{
 "cells": [
  {
   "cell_type": "markdown",
   "metadata": {
    "collapsed": true
   },
   "source": [
    "## p.205 問題4.6.12\n",
    "\n",
    "[論文](https://www.researchgate.net/publication/281471293_Obtaining_a_Triangular_Matrix_by_Independent_Row-Column_Permutations) によると、この問題はNP完全問題だそうです。以下のプログラムは非常に遅いプログラムです。行列のサイズが $10$ くらいまでなら、しばらく待てば結果を得られます。以下のプログラムの詳しい説明は面倒なのでしませんが、参考にした本を書いておきます。\n",
    "\n",
    "- 伊理正夫 他 著 『演習グラフ理論』 p.50 演習問題 [2・1・1]\n",
    "- T. コルメン 他 著 『アルゴリズムイントロダクション』第3版 p.510 補題 22.11"
   ]
  },
  {
   "cell_type": "code",
   "execution_count": 75,
   "metadata": {
    "collapsed": true
   },
   "outputs": [],
   "source": [
    "from mat import Mat\n",
    "import itertools\n",
    "\n",
    "WHITE = 0\n",
    "GRAY = 1\n",
    "BLACK = 2"
   ]
  },
  {
   "cell_type": "code",
   "execution_count": 76,
   "metadata": {
    "collapsed": true
   },
   "outputs": [],
   "source": [
    "def exchange_row_col(Lr, Lc, i, j):\n",
    "    t = Lr[i]\n",
    "    Lr[i] = Lr[j]\n",
    "    Lr[j] = t\n",
    "    t = Lc[i]\n",
    "    Lc[i] = Lc[j]\n",
    "    Lc[j] = t"
   ]
  },
  {
   "cell_type": "code",
   "execution_count": 77,
   "metadata": {
    "collapsed": false
   },
   "outputs": [],
   "source": [
    "def zero(j, A, Lr, Lc):\n",
    "    n = len(Lr)\n",
    "    for c in range(j, n):\n",
    "        flag = True\n",
    "        for r in range(j, n):\n",
    "            if r != c and A[Lr[r], Lc[c]] != 0:\n",
    "                flag = False\n",
    "                break\n",
    "        if flag == True:\n",
    "            return c\n",
    "    return None "
   ]
  },
  {
   "cell_type": "code",
   "execution_count": 78,
   "metadata": {
    "collapsed": true
   },
   "outputs": [],
   "source": [
    "def acyclic_dfs(A, Lr, Lc, color, u):\n",
    "    n = len(Lr)\n",
    "    color[u] = GRAY\n",
    "    for v in range(n):\n",
    "        if v != u and A[Lr[u], Lc[v]] != 0:\n",
    "            if color[v] == WHITE:\n",
    "                if acyclic_dfs(A, Lr, Lc, color, v) == False:\n",
    "                    return False\n",
    "            if color[v] == GRAY:\n",
    "                return False\n",
    "    color[u] = BLACK\n",
    "    return True"
   ]
  },
  {
   "cell_type": "code",
   "execution_count": 79,
   "metadata": {
    "collapsed": true
   },
   "outputs": [],
   "source": [
    "def acyclic(A, Lr, Lc):\n",
    "    n = len(Lr)\n",
    "    color = [WHITE for i in range(n)]\n",
    "    for u in range(n):\n",
    "        if color[u] == WHITE:\n",
    "            if acyclic_dfs(A, Lr, Lc, color, u) == False:\n",
    "                return False\n",
    "    return True"
   ]
  },
  {
   "cell_type": "code",
   "execution_count": 80,
   "metadata": {
    "collapsed": false
   },
   "outputs": [],
   "source": [
    "def get_Lr_Lc(A, Lr, Lc):\n",
    "    for j in range(len(Lc)):\n",
    "        c = zero(j, A, Lr, Lc)\n",
    "        exchange_row_col(Lr, Lc, j, c)"
   ]
  },
  {
   "cell_type": "code",
   "execution_count": 81,
   "metadata": {
    "collapsed": false
   },
   "outputs": [],
   "source": [
    "def triangular(A):\n",
    "    Lr = list(A.D[0])\n",
    "    Lc_ = list(A.D[1])\n",
    "    n = len(Lc_)\n",
    "    assert len(Lr) == n\n",
    "    for Lc in itertools.permutations(Lc_, n):\n",
    "        Lc = list(Lc)\n",
    "        if acyclic(A, Lr, Lc) == True:\n",
    "            get_Lr_Lc(A, Lr, Lc)\n",
    "            return (Lr, Lc)\n",
    "    return None"
   ]
  },
  {
   "cell_type": "code",
   "execution_count": 82,
   "metadata": {
    "collapsed": false
   },
   "outputs": [],
   "source": [
    "A = Mat(\n",
    "    ({'a', 'b', 'c'}, {'#', '@', '?'}),\n",
    "    {('a', '#'):2, ('a', '?'):3,\n",
    "     ('b', '@'):10, ('b','#'):20, ('b','?'):30,\n",
    "     ('c','#'):35}\n",
    ")"
   ]
  },
  {
   "cell_type": "code",
   "execution_count": 83,
   "metadata": {
    "collapsed": false
   },
   "outputs": [
    {
     "name": "stdout",
     "output_type": "stream",
     "text": [
      "\n",
      "        @  ?  #\n",
      "     ----------\n",
      " b  |  10 30 20\n",
      " a  |   0  3  2\n",
      " c  |   0  0 35\n",
      "\n"
     ]
    }
   ],
   "source": [
    "(Lr, Lc) = triangular(A)\n",
    "A.pp(Lr, Lc)"
   ]
  },
  {
   "cell_type": "code",
   "execution_count": 84,
   "metadata": {
    "collapsed": false
   },
   "outputs": [],
   "source": [
    "D1 = {'a', 'b', 'c', 'd', 'e', 'f', 'g', 'h', 'i', 'j'}\n",
    "D2 = {'z', 'y', 'x', 'w', 'v', 'u', 't', 's', 'r', 'q'}\n",
    "A = Mat((D1, D2), {})"
   ]
  },
  {
   "cell_type": "code",
   "execution_count": 85,
   "metadata": {
    "collapsed": false
   },
   "outputs": [
    {
     "name": "stdout",
     "output_type": "stream",
     "text": [
      "\n",
      "        v  t   r  u  x  s  w  z  y  q\n",
      "     --------------------------------\n",
      " j  |   0  0   0 57  0  0  0  0  0  0\n",
      " a  |  77 45   0 39  0 31  0  0 47 99\n",
      " h  |   0 10   0 66  0  8  0  0  0  0\n",
      " c  |   0 39   0 31 97 98  0 87 18  5\n",
      " i  |   0 23   0 34  0 25  0  0  0  0\n",
      " e  |  76 54 100 82 58  3 89  0  0  0\n",
      " g  |   0  0   0 24  0  0  0  0  0  0\n",
      " f  |  78 21   0 68  0  0  0  0  0 76\n",
      " d  |  85 87   0  0  0 37  0 62 83  0\n",
      " b  |   0 77   0  0  0  5  0  0  0 82\n",
      "\n"
     ]
    }
   ],
   "source": [
    "import random\n",
    "outcomes = [0 for i in range(50)] + list(range(1, 101))\n",
    "M = [[0 for i in range(len(D1))] for j in range(len(D2))]\n",
    "\n",
    "index = list(range(len(M[0])))\n",
    "random.shuffle(index)\n",
    "\n",
    "for i in range(len(M)):\n",
    "    for j in range(len(M[0])):\n",
    "        if i > j:\n",
    "            M[i][index[j]] = 0\n",
    "        else:\n",
    "            M[i][index[j]] = random.choice(outcomes)\n",
    "\n",
    "random.shuffle(M)\n",
    "\n",
    "i = 0\n",
    "for r in D1:\n",
    "    for c in D2:\n",
    "        A[r, c] = M[i // 10][i % 10]\n",
    "        i += 1\n",
    "        \n",
    "print(A)"
   ]
  },
  {
   "cell_type": "code",
   "execution_count": 86,
   "metadata": {
    "collapsed": false
   },
   "outputs": [
    {
     "name": "stdout",
     "output_type": "stream",
     "text": [
      "\n",
      "         r  w  x  z  y  v  q  t  s  u\n",
      "     --------------------------------\n",
      " e  |  100 89 58  0  0 76  0 54  3 82\n",
      " d  |    0  0  0 62 83 85  0 87 37  0\n",
      " c  |    0  0 97 87 18  0  5 39 98 31\n",
      " a  |    0  0  0  0 47 77 99 45 31 39\n",
      " f  |    0  0  0  0  0 78 76 21  0 68\n",
      " b  |    0  0  0  0  0  0 82 77  5  0\n",
      " i  |    0  0  0  0  0  0  0 23 25 34\n",
      " h  |    0  0  0  0  0  0  0 10  8 66\n",
      " j  |    0  0  0  0  0  0  0  0  0 57\n",
      " g  |    0  0  0  0  0  0  0  0  0 24\n",
      "\n"
     ]
    }
   ],
   "source": [
    "(Lr, Lc) = triangular(A)\n",
    "A.pp(Lr, Lc)"
   ]
  },
  {
   "cell_type": "markdown",
   "metadata": {},
   "source": [
    "## p.205 問題4.6.14\n",
    "\n",
    "解答略"
   ]
  },
  {
   "cell_type": "markdown",
   "metadata": {},
   "source": [
    "## p.206 問題4.7.3\n",
    "\n",
    "解答略"
   ]
  },
  {
   "cell_type": "markdown",
   "metadata": {},
   "source": [
    "## p.212 問題4.9.2\n",
    "\n",
    "解答略"
   ]
  },
  {
   "cell_type": "markdown",
   "metadata": {},
   "source": [
    "## p.217 練習問題4.10.7 - 4.10.8、問題4.10.9\n",
    "\n",
    "解答略"
   ]
  },
  {
   "cell_type": "markdown",
   "metadata": {},
   "source": [
    "## p.218 問題4.10.13\n",
    "\n",
    "解答略"
   ]
  },
  {
   "cell_type": "markdown",
   "metadata": {},
   "source": [
    "## p.237 問題4.13.2\n",
    "\n",
    "$g(c y_1) = g(c f(x_1)) = g(f(c x_1)) = c x_1 = c g(y_1)$"
   ]
  },
  {
   "cell_type": "markdown",
   "metadata": {},
   "source": [
    "## p.244 課題4.14.1"
   ]
  },
  {
   "cell_type": "code",
   "execution_count": 107,
   "metadata": {
    "collapsed": true
   },
   "outputs": [],
   "source": [
    "from matutil import listlist2mat, coldict2mat, mat2coldict\n",
    "from GF2 import one\n",
    "from vecutil import list2vec\n",
    "from vec import Vec"
   ]
  },
  {
   "cell_type": "code",
   "execution_count": 108,
   "metadata": {
    "collapsed": false
   },
   "outputs": [],
   "source": [
    "G = listlist2mat(\n",
    "    [[one,0,one,one],\n",
    "     [one,one,0,one],\n",
    "     [0,0,0,one],\n",
    "     [one,one,one,0],\n",
    "     [0,0,one,0],\n",
    "     [0,one,0,0],\n",
    "     [one,0,0,0]]\n",
    ")"
   ]
  },
  {
   "cell_type": "markdown",
   "metadata": {},
   "source": [
    "## p.244 課題4.14.2"
   ]
  },
  {
   "cell_type": "code",
   "execution_count": 109,
   "metadata": {
    "collapsed": false
   },
   "outputs": [
    {
     "name": "stdout",
     "output_type": "stream",
     "text": [
      "\n",
      " 0 1   2   3 4 5   6\n",
      "--------------------\n",
      " 0 0 one one 0 0 one\n"
     ]
    }
   ],
   "source": [
    "p = list2vec([one,0,0,one])\n",
    "\n",
    "print(G*p)"
   ]
  },
  {
   "cell_type": "markdown",
   "metadata": {},
   "source": [
    "## p.244 課題4.14.3"
   ]
  },
  {
   "cell_type": "code",
   "execution_count": 110,
   "metadata": {
    "collapsed": false
   },
   "outputs": [
    {
     "name": "stdout",
     "output_type": "stream",
     "text": [
      "\n",
      "         0   1   2   3\n",
      "     -----------------\n",
      " 0  |  one   0   0   0\n",
      " 1  |    0 one   0   0\n",
      " 2  |    0   0 one   0\n",
      " 3  |    0   0   0 one\n",
      "\n"
     ]
    }
   ],
   "source": [
    "R = listlist2mat(\n",
    "    [[0,0,0,0,0,0,one],\n",
    "     [0,0,0,0,0,one,0],\n",
    "     [0,0,0,0,one,0,0],\n",
    "     [0,0,one,0,0,0,0]]\n",
    ")\n",
    "\n",
    "print(R*G)"
   ]
  },
  {
   "cell_type": "markdown",
   "metadata": {},
   "source": [
    "## p.245 課題4.14.4"
   ]
  },
  {
   "cell_type": "code",
   "execution_count": 111,
   "metadata": {
    "collapsed": false,
    "scrolled": true
   },
   "outputs": [
    {
     "name": "stdout",
     "output_type": "stream",
     "text": [
      "\n",
      "       0 1 2 3\n",
      "     ---------\n",
      " 0  |  0 0 0 0\n",
      " 1  |  0 0 0 0\n",
      " 2  |  0 0 0 0\n",
      "\n"
     ]
    }
   ],
   "source": [
    "H = listlist2mat(\n",
    "    [[0,0,0,one,one,one,one],\n",
    "     [0,one,one,0,0,one,one],\n",
    "     [one,0,one,0,one,0,one]]\n",
    ")\n",
    "\n",
    "print(H*G)"
   ]
  },
  {
   "cell_type": "markdown",
   "metadata": {},
   "source": [
    "## p.245 課題4.14.5"
   ]
  },
  {
   "cell_type": "code",
   "execution_count": 112,
   "metadata": {
    "collapsed": false
   },
   "outputs": [],
   "source": [
    "def find_error(error_syn):\n",
    "    n = 7\n",
    "    index = 0\n",
    "    for i in range(len(error_syn.D)):\n",
    "        if error_syn[i] == one:\n",
    "            index = 2*index + 1\n",
    "        else:\n",
    "            index *= 2\n",
    "    D = set(range(n))\n",
    "    return Vec(D, {}) if index == 0 else Vec(D, {index-1:one})"
   ]
  },
  {
   "cell_type": "markdown",
   "metadata": {},
   "source": [
    "## p.245 課題4.14.6"
   ]
  },
  {
   "cell_type": "code",
   "execution_count": 113,
   "metadata": {
    "collapsed": false,
    "scrolled": true
   },
   "outputs": [
    {
     "name": "stdout",
     "output_type": "stream",
     "text": [
      "\n",
      " 0   1 2   3\n",
      "------------\n",
      " 0 one 0 one\n",
      "\n",
      "   0 1   2   3 4   5 6\n",
      "----------------------\n",
      " one 0 one one 0 one 0\n",
      "\n",
      "   0 1   2   3 4   5   6\n",
      "------------------------\n",
      " one 0 one one 0 one one\n"
     ]
    }
   ],
   "source": [
    "c_tilde = list2vec([one, 0, one, one, 0, one, one])\n",
    "error_syn = H*c_tilde\n",
    "c = c_tilde + find_error(error_syn)\n",
    "p = R*c\n",
    "print(p)\n",
    "print(G*p)\n",
    "print(c_tilde)"
   ]
  },
  {
   "cell_type": "markdown",
   "metadata": {},
   "source": [
    "## p.245 課題4.14.7"
   ]
  },
  {
   "cell_type": "code",
   "execution_count": 114,
   "metadata": {
    "collapsed": true
   },
   "outputs": [],
   "source": [
    "def find_error_matrix(S):\n",
    "    return coldict2mat({c:find_error(v) for c, v in mat2coldict(S).items()})"
   ]
  },
  {
   "cell_type": "code",
   "execution_count": 115,
   "metadata": {
    "collapsed": false
   },
   "outputs": [
    {
     "name": "stdout",
     "output_type": "stream",
     "text": [
      "\n",
      "         0   1\n",
      "     ---------\n",
      " 0  |    0 one\n",
      " 1  |    0   0\n",
      " 2  |    0   0\n",
      " 3  |    0   0\n",
      " 4  |    0   0\n",
      " 5  |    0   0\n",
      " 6  |  one   0\n",
      "\n"
     ]
    }
   ],
   "source": [
    "S = listlist2mat(\n",
    "    [[one, one, one],\n",
    "     [0, 0, one]]\n",
    ").transpose()\n",
    "\n",
    "print(find_error_matrix(S))"
   ]
  },
  {
   "cell_type": "markdown",
   "metadata": {},
   "source": [
    "## p.246 課題4.14.8"
   ]
  },
  {
   "cell_type": "code",
   "execution_count": 116,
   "metadata": {
    "collapsed": false,
    "scrolled": true
   },
   "outputs": [],
   "source": [
    "from bitutil import str2bits, bits2str, bits2mat, mat2bits, noise"
   ]
  },
  {
   "cell_type": "code",
   "execution_count": 117,
   "metadata": {
    "collapsed": false
   },
   "outputs": [
    {
     "data": {
      "text/plain": [
       "True"
      ]
     },
     "execution_count": 117,
     "metadata": {},
     "output_type": "execute_result"
    }
   ],
   "source": [
    "s = ''.join([chr(i) for i in range(256)])\n",
    "s == bits2str(str2bits(s))"
   ]
  },
  {
   "cell_type": "markdown",
   "metadata": {},
   "source": [
    "## p.247 課題4.14.9"
   ]
  },
  {
   "cell_type": "code",
   "execution_count": 118,
   "metadata": {
    "collapsed": false
   },
   "outputs": [
    {
     "name": "stdout",
     "output_type": "stream",
     "text": [
      "[one, 0, 0, 0, 0, one, one, 0, 0, one, 0, 0, 0, one, one, 0]\n",
      "\n",
      "         0   1   2   3\n",
      "     -----------------\n",
      " 0  |  one   0   0   0\n",
      " 1  |    0 one one one\n",
      " 2  |    0 one   0 one\n",
      " 3  |    0   0   0   0\n",
      "\n",
      "[one, 0, 0, 0, 0, one, one, 0, 0, one, 0, 0, 0, one, one, 0]\n",
      "ab\n"
     ]
    }
   ],
   "source": [
    "s = 'ab'\n",
    "bits = str2bits(s)\n",
    "\n",
    "print(bits)\n",
    "\n",
    "P = bits2mat(str2bits(s))\n",
    "\n",
    "print(P)\n",
    "\n",
    "print(mat2bits(P))\n",
    "\n",
    "t = bits2str(mat2bits(P))\n",
    "\n",
    "print(t)"
   ]
  },
  {
   "cell_type": "markdown",
   "metadata": {},
   "source": [
    "## p.247 課題4.14.10"
   ]
  },
  {
   "cell_type": "code",
   "execution_count": 126,
   "metadata": {
    "collapsed": false
   },
   "outputs": [],
   "source": [
    "s = \"I'm trying to free your mind, Neo. But I can only show you the door. You're the one that has to walk through it.\"\n",
    "P = bits2mat(str2bits(s))"
   ]
  },
  {
   "cell_type": "markdown",
   "metadata": {},
   "source": [
    "## p.247 課題4.14.11"
   ]
  },
  {
   "cell_type": "code",
   "execution_count": 120,
   "metadata": {
    "collapsed": false
   },
   "outputs": [
    {
     "data": {
      "text/plain": [
       "'I\\'m tzyifgpto dree yo}r mind, Neo. But I c!n olly show 9ou the do/r.\"You\\'re the ooe that has to walk throUgj mtl'"
      ]
     },
     "execution_count": 120,
     "metadata": {},
     "output_type": "execute_result"
    }
   ],
   "source": [
    "E = noise(P, 0.02)\n",
    "bits2str(mat2bits(E + P))"
   ]
  },
  {
   "cell_type": "markdown",
   "metadata": {},
   "source": [
    "## p.247 課題4.14.12"
   ]
  },
  {
   "cell_type": "code",
   "execution_count": 127,
   "metadata": {
    "collapsed": false
   },
   "outputs": [
    {
     "name": "stdout",
     "output_type": "stream",
     "text": [
      "896\n",
      "1568\n"
     ]
    },
    {
     "data": {
      "text/plain": [
       "True"
      ]
     },
     "execution_count": 127,
     "metadata": {},
     "output_type": "execute_result"
    }
   ],
   "source": [
    "C = G*P\n",
    "\n",
    "print(len(mat2bits(P)))\n",
    "print(len(mat2bits(C)))\n",
    "\n",
    "(len(mat2bits(P)) // 4) * 7 == len(mat2bits(C))"
   ]
  },
  {
   "cell_type": "markdown",
   "metadata": {},
   "source": [
    "## p.247 課題4.14.13"
   ]
  },
  {
   "cell_type": "code",
   "execution_count": 122,
   "metadata": {
    "collapsed": false
   },
   "outputs": [
    {
     "data": {
      "text/plain": [
       "'I\\'m Tryang to free your mint\\x0c Ndo. But\"I can\"ooly show y\\x7fu the door. You\\'re the one uhat has to¤\\x7faNk t`rough \\tt.'"
      ]
     },
     "execution_count": 122,
     "metadata": {},
     "output_type": "execute_result"
    }
   ],
   "source": [
    "CTILDE = C + noise(C, 0.02)\n",
    "bits2str(mat2bits(R*CTILDE))"
   ]
  },
  {
   "cell_type": "markdown",
   "metadata": {},
   "source": [
    "## p.248 課題4.14.14"
   ]
  },
  {
   "cell_type": "code",
   "execution_count": 123,
   "metadata": {
    "collapsed": true
   },
   "outputs": [],
   "source": [
    "def correct(A):\n",
    "    return A + find_error_matrix(H*A)"
   ]
  },
  {
   "cell_type": "markdown",
   "metadata": {},
   "source": [
    "## p.248 課題4.14.15"
   ]
  },
  {
   "cell_type": "code",
   "execution_count": 124,
   "metadata": {
    "collapsed": false
   },
   "outputs": [
    {
     "data": {
      "text/plain": [
       "\"I'm trying to free your mind, Neo. But I can only show you the door. You're the one that has to \\x7falk through \\x89t.\""
      ]
     },
     "execution_count": 124,
     "metadata": {},
     "output_type": "execute_result"
    }
   ],
   "source": [
    "C = correct(CTILDE)\n",
    "P = R*C\n",
    "s = bits2str(mat2bits(P))\n",
    "s"
   ]
  },
  {
   "cell_type": "markdown",
   "metadata": {},
   "source": [
    "$2$ ビット以上エラーのあるコードワードが存在したから。"
   ]
  },
  {
   "cell_type": "markdown",
   "metadata": {},
   "source": [
    "## p.248 課題4.14.16"
   ]
  },
  {
   "cell_type": "code",
   "execution_count": 130,
   "metadata": {
    "collapsed": false
   },
   "outputs": [
    {
     "name": "stdout",
     "output_type": "stream",
     "text": [
      "I'm tryind |o free)your mind, Neo. But I can fnly show you the doorÎ You'Re the one that kas to walk through it.\n",
      "I'm trying to fqee your =ind, Neo. But I kan only show you the door. You're the one that has toÀwalk hrough it.\n",
      "I'm trying to free your mind, Neo. But I can gnly show you the door. You\u0007Be the one that has to walk throuoh it.\n",
      "I'm tryng to free your mind, Neo. But I can jnly shgw you te door. You're the one that has to walk through it.\n",
      "I'm trying to.free your mind, Neo. But I can only show you the door. You're the one that has to walk through it.\n",
      "I'h trying to free your mind, Neo. But I can onlw show you the door. You're the one that hav to walk throuWh it.\n",
      "I'm trying to free your mind, Neo. But I can only show you the door. You're the one that has to walk through it.\n",
      "I'm try)ng to free your mind,\"Neo. But I can only show you the door. You're the one that has to walk through it.\n",
      "I'm trying to free your mind, Neo. But I can only show you the door. You're the one that has to walk throwg` it.\n",
      "I'm tying to free your mind, Neo. But I can only show you thõ door. You're the one that has to walk tHrough it.\n",
      "I'm trying to free your mind, Neo. But I can only show you the door. You're the one°that has to walk through it.\n",
      "I'm trying to free your ind, Neo. But I can only show you the door. You're the one that has to walk through it.\n",
      "I'm trying to free your mind, Neo. But I can only show you the door. You're the one that has to walk through it.\n",
      "I'm trying to free your mind, Neo. But I can only show you the door. You're the one that has to walk througj it.\n",
      "I'm trying to free your mind, Neo. But I can only show you the door. ¹ou're the one that has to walk through it.\n",
      "I'm tzying to free your mind, NEo. But I can only show you the door. ]ou're the one that has to walk through it.\n",
      "I'm trying to free your mind, Neo. But I can only show you the door. You're the one that has to walk through it.\n",
      "I'm trying to free your mind, Neo. But I can only show you the door. You're the one that has to walk through it.\n",
      "I'm trying to free your mind, Neo. But I can only show you the door. You're the one that has to walk through.it.\n",
      "I'm trying to free your mind, Neo. But I can only show you the door. You're the one that has to walk through it.\n"
     ]
    }
   ],
   "source": [
    "s = \"I'm trying to free your mind, Neo. But I can only show you the door. You're the one that has to walk through it.\"\n",
    "P = bits2mat(str2bits(s))\n",
    "C = G*P\n",
    "for i in range(20):\n",
    "    CTILDE = C + noise(C, 0.03 - i*0.001)\n",
    "    C_ = correct(CTILDE)\n",
    "    P_ = R*C_\n",
    "    s = bits2str(mat2bits(P_))\n",
    "    print(s)"
   ]
  },
  {
   "cell_type": "markdown",
   "metadata": {},
   "source": [
    "## 注意\n",
    "\n",
    "以下の課題たちのうち、回転を扱う課題についての注意ですが、座標系は2次元の右手系ではなく、**左手系**であることに注意してください。"
   ]
  },
  {
   "cell_type": "markdown",
   "metadata": {},
   "source": [
    "## p.251 課題4.15.1"
   ]
  },
  {
   "cell_type": "code",
   "execution_count": 9,
   "metadata": {
    "collapsed": true
   },
   "outputs": [],
   "source": [
    "from image_mat_util import file2mat, mat2display"
   ]
  },
  {
   "cell_type": "code",
   "execution_count": 28,
   "metadata": {
    "collapsed": true
   },
   "outputs": [],
   "source": [
    "(pos_mat, col_mat) = file2mat('img01.png')\n",
    "mat2display(pos_mat, col_mat)"
   ]
  },
  {
   "cell_type": "markdown",
   "metadata": {},
   "source": [
    "## p.252 課題4.15.2"
   ]
  },
  {
   "cell_type": "code",
   "execution_count": 32,
   "metadata": {
    "collapsed": true
   },
   "outputs": [],
   "source": [
    "from mat import Mat\n",
    "from matutil import mat2coldict, coldict2mat"
   ]
  },
  {
   "cell_type": "code",
   "execution_count": 25,
   "metadata": {
    "collapsed": true
   },
   "outputs": [],
   "source": [
    "def identity():\n",
    "    D = {'x', 'y', 'u'}\n",
    "    return Mat((D, D), {('x', 'x'):1, ('y', 'y'):1, ('u', 'u'):1})"
   ]
  },
  {
   "cell_type": "code",
   "execution_count": 37,
   "metadata": {
    "collapsed": false
   },
   "outputs": [],
   "source": [
    "I = identity()\n",
    "(pos_mat, col_mat) = file2mat('img01.png')\n",
    "mat2display(I*pos_mat, col_mat)"
   ]
  },
  {
   "cell_type": "markdown",
   "metadata": {},
   "source": [
    "[結果](task_04_15_02.html)"
   ]
  },
  {
   "cell_type": "markdown",
   "metadata": {},
   "source": [
    "## p.252 課題4.15.3"
   ]
  },
  {
   "cell_type": "code",
   "execution_count": 44,
   "metadata": {
    "collapsed": true
   },
   "outputs": [],
   "source": [
    "def translation(alpha, beta):\n",
    "    D = {'x', 'y', 'u'}\n",
    "    return Mat(\n",
    "        (D, D),\n",
    "        {('x','x'):1, ('x','u'):alpha,\n",
    "         ('y','y'):1, ('y','u'):beta,\n",
    "         ('u','u'):1}\n",
    "    )"
   ]
  },
  {
   "cell_type": "code",
   "execution_count": 40,
   "metadata": {
    "collapsed": true
   },
   "outputs": [],
   "source": [
    "T = translation(50, 50)\n",
    "mat2display(T*pos_mat, col_mat)"
   ]
  },
  {
   "cell_type": "markdown",
   "metadata": {},
   "source": [
    "## p.252 課題4.15.4"
   ]
  },
  {
   "cell_type": "code",
   "execution_count": 45,
   "metadata": {
    "collapsed": true
   },
   "outputs": [],
   "source": [
    "def scale(alpha, beta):\n",
    "    D = {'x', 'y', 'u'}\n",
    "    return Mat(\n",
    "        (D, D),\n",
    "        {('x','x'):alpha,\n",
    "         ('y','y'):beta,\n",
    "         ('u','u'):1}\n",
    "    )"
   ]
  },
  {
   "cell_type": "code",
   "execution_count": 43,
   "metadata": {
    "collapsed": false
   },
   "outputs": [],
   "source": [
    "S = scale(1.5, 0.5)\n",
    "mat2display(S*pos_mat, col_mat)"
   ]
  },
  {
   "cell_type": "markdown",
   "metadata": {},
   "source": [
    "[結果](task_04_15_04.html)"
   ]
  },
  {
   "cell_type": "markdown",
   "metadata": {},
   "source": [
    "## p.253 課題4.15.5"
   ]
  },
  {
   "cell_type": "code",
   "execution_count": 47,
   "metadata": {
    "collapsed": true
   },
   "outputs": [],
   "source": [
    "from math import sin, cos, pi"
   ]
  },
  {
   "cell_type": "code",
   "execution_count": 46,
   "metadata": {
    "collapsed": true
   },
   "outputs": [],
   "source": [
    "def rotation(theta):\n",
    "    D = {'x', 'y', 'u'}\n",
    "    return Mat(\n",
    "        (D, D),\n",
    "        {('x','x'):cos(theta), ('x','y'):sin(theta),\n",
    "         ('y','x'):-sin(theta), ('y','y'):cos(theta),\n",
    "         ('u','u'):1}\n",
    "    )"
   ]
  },
  {
   "cell_type": "code",
   "execution_count": 61,
   "metadata": {
    "collapsed": true
   },
   "outputs": [],
   "source": [
    "R = rotation(pi/6)\n",
    "mat2display(R*translation(0, 100)*pos_mat, col_mat)"
   ]
  },
  {
   "cell_type": "markdown",
   "metadata": {},
   "source": [
    "[結果](task_04_15_05.html)"
   ]
  },
  {
   "cell_type": "markdown",
   "metadata": {},
   "source": [
    "## p.253 課題4.15.6"
   ]
  },
  {
   "cell_type": "code",
   "execution_count": 63,
   "metadata": {
    "collapsed": true
   },
   "outputs": [],
   "source": [
    "def rotation_about(theta, x, y):\n",
    "    return translation(x, y)*rotation(theta)*translation(-x, -y)"
   ]
  },
  {
   "cell_type": "code",
   "execution_count": 64,
   "metadata": {
    "collapsed": false
   },
   "outputs": [],
   "source": [
    "RA = rotation_about(pi, 100, 100)\n",
    "mat2display(RA*pos_mat, col_mat)"
   ]
  },
  {
   "cell_type": "markdown",
   "metadata": {},
   "source": [
    "[結果](task_04_15_06.html)"
   ]
  },
  {
   "cell_type": "markdown",
   "metadata": {},
   "source": [
    "## p.253 課題4.15.7"
   ]
  },
  {
   "cell_type": "code",
   "execution_count": 65,
   "metadata": {
    "collapsed": true
   },
   "outputs": [],
   "source": [
    "def reflect_y():\n",
    "    return scale(-1, 1)"
   ]
  },
  {
   "cell_type": "code",
   "execution_count": 67,
   "metadata": {
    "collapsed": true
   },
   "outputs": [],
   "source": [
    "RFLY = reflect_y()\n",
    "mat2display(translation(200, 0)*RFLY*pos_mat, col_mat)"
   ]
  },
  {
   "cell_type": "markdown",
   "metadata": {},
   "source": [
    "[結果](task_04_15_07.html)"
   ]
  },
  {
   "cell_type": "markdown",
   "metadata": {},
   "source": [
    "## p.253 課題4.15.8"
   ]
  },
  {
   "cell_type": "code",
   "execution_count": 68,
   "metadata": {
    "collapsed": true
   },
   "outputs": [],
   "source": [
    "def reflect_x():\n",
    "    return scale(1, -1)"
   ]
  },
  {
   "cell_type": "code",
   "execution_count": 71,
   "metadata": {
    "collapsed": true
   },
   "outputs": [],
   "source": [
    "RFLX = reflect_x()\n",
    "mat2display(translation(0, 200)*RFLX*pos_mat, col_mat)"
   ]
  },
  {
   "cell_type": "markdown",
   "metadata": {},
   "source": [
    "[結果](task_04_15_08.html)"
   ]
  },
  {
   "cell_type": "markdown",
   "metadata": {},
   "source": [
    "## p.253 課題4.15.9"
   ]
  },
  {
   "cell_type": "code",
   "execution_count": 72,
   "metadata": {
    "collapsed": true
   },
   "outputs": [],
   "source": [
    "def scale_color(r, g, b):\n",
    "    D = {'r','g','b'}\n",
    "    return Mat((D, D), {('r','r'):r, ('g','g'):g, ('b','b'):b})"
   ]
  },
  {
   "cell_type": "code",
   "execution_count": 73,
   "metadata": {
    "collapsed": true
   },
   "outputs": [],
   "source": [
    "mat2display(pos_mat, scale_color(5, 1, 1)*col_mat)"
   ]
  },
  {
   "cell_type": "markdown",
   "metadata": {},
   "source": [
    "[結果](task_04_15_09.html)"
   ]
  },
  {
   "cell_type": "markdown",
   "metadata": {},
   "source": [
    "## p.254 課題4.15.10"
   ]
  },
  {
   "cell_type": "code",
   "execution_count": 76,
   "metadata": {
    "collapsed": false
   },
   "outputs": [],
   "source": [
    "def grayscale():\n",
    "    D = {'r','g','b'}\n",
    "    return Mat(\n",
    "        (D, D),\n",
    "        {('r','r'):77/256, ('r','g'):151/256, ('r','b'):28/256,\n",
    "         ('g','r'):77/256, ('g','g'):151/256, ('g','b'):28/256,\n",
    "         ('b','r'):77/256, ('b','g'):151/256, ('b','b'):28/256}\n",
    "    )"
   ]
  },
  {
   "cell_type": "code",
   "execution_count": 77,
   "metadata": {
    "collapsed": true
   },
   "outputs": [],
   "source": [
    "(pos_mat, col_mat) = file2mat('flag.png')\n",
    "mat2display(pos_mat, grayscale()*col_mat)"
   ]
  },
  {
   "cell_type": "markdown",
   "metadata": {},
   "source": [
    "[結果](task_04_15_10.html)"
   ]
  },
  {
   "cell_type": "markdown",
   "metadata": {},
   "source": [
    "## p.254 課題4.15.11"
   ]
  },
  {
   "cell_type": "code",
   "execution_count": 78,
   "metadata": {
    "collapsed": true
   },
   "outputs": [],
   "source": [
    "from math import atan"
   ]
  },
  {
   "cell_type": "code",
   "execution_count": 79,
   "metadata": {
    "collapsed": true
   },
   "outputs": [],
   "source": [
    "def reflect_about(x1, y1, x2, y2):\n",
    "    assert (x1, y1) != (x2, y2)\n",
    "    if x1 == x2:\n",
    "        return translation(x1,0)*reflect_y()*translation(-x1,0)\n",
    "    else:\n",
    "        theta = atan((y1 - y2)/(x2 - x1))\n",
    "        return translation(x1, y1)*rotation(theta)*reflect_x()*rotation(-theta)*translation(-x1, -y1)"
   ]
  },
  {
   "cell_type": "code",
   "execution_count": 81,
   "metadata": {
    "collapsed": true
   },
   "outputs": [],
   "source": [
    "(pos_mat, col_mat) = file2mat('img01.png')\n",
    "mat2display(reflect_about(0, 200, 200, 0)*pos_mat, col_mat)"
   ]
  },
  {
   "cell_type": "markdown",
   "metadata": {},
   "source": [
    "[結果](task_04_15_11.html)"
   ]
  },
  {
   "cell_type": "markdown",
   "metadata": {},
   "source": [
    "## pp.255-258 問題4.17.1 - 問題4.17.10\n",
    "\n",
    "解答略"
   ]
  },
  {
   "cell_type": "markdown",
   "metadata": {},
   "source": [
    "## p.258 問題4.17.11"
   ]
  },
  {
   "cell_type": "code",
   "execution_count": 11,
   "metadata": {
    "collapsed": true
   },
   "outputs": [],
   "source": [
    "# %load mat.py\n",
    "# Copyright 2013 Philip N. Klein\n",
    "\n",
    "from vec import Vec\n",
    "\n",
    "#Test your Mat class over R and also over GF(2).  The following tests use only R.\n",
    "\n",
    "def getitem(M, k):\n",
    "    \"\"\"\n",
    "    Returns the value of entry k in M, where k is a 2-tuple\n",
    "    >>> M = Mat(({1,3,5}, {'a'}), {(1,'a'):4, (5,'a'): 2})\n",
    "    >>> M[1,'a']\n",
    "    4\n",
    "    >>> M[3,'a']\n",
    "    0\n",
    "    \"\"\"\n",
    "    assert k[0] in M.D[0] and k[1] in M.D[1]\n",
    "\n",
    "    return M.f[k] if k in M.f else 0\n",
    "\n",
    "def setitem(M, k, val):\n",
    "    \"\"\"\n",
    "    >>> M = Mat(({'a','b','c'}, {5}), {('a', 5):3, ('b', 5):7})\n",
    "    >>> M['b', 5] = 9\n",
    "    >>> M['c', 5] = 13\n",
    "    >>> M == Mat(({'a','b','c'}, {5}), {('a', 5):3, ('b', 5):9, ('c',5):13})\n",
    "    True\n",
    "\n",
    "    Make sure your operations work with bizarre and unordered keys.\n",
    "\n",
    "    >>> N = Mat(({((),), 7}, {True, False}), {})\n",
    "    >>> N[(7, False)] = 1\n",
    "    >>> N[(((),), True)] = 2\n",
    "    >>> N == Mat(({((),), 7}, {True, False}), {(7,False):1, (((),), True):2})\n",
    "    True\n",
    "    \"\"\"\n",
    "    assert k[0] in M.D[0] and k[1] in M.D[1]\n",
    "\n",
    "    if val != 0:\n",
    "        M.f[k] = val\n",
    "    else:\n",
    "        if k in M.f:\n",
    "            del M.f[k]\n",
    "\n",
    "def add(A, B):\n",
    "    \"\"\"\n",
    "    >>> A1 = Mat(({3, 6}, {'x','y'}), {(3,'x'):-2, (6,'y'):3})\n",
    "    >>> A2 = Mat(({3, 6}, {'x','y'}), {(3,'y'):4})\n",
    "    >>> B = Mat(({3, 6}, {'x','y'}), {(3,'x'):-2, (3,'y'):4, (6,'y'):3})\n",
    "    >>> A1 + A2 == B\n",
    "    True\n",
    "    >>> A2 + A1 == B\n",
    "    True\n",
    "    >>> A1 == Mat(({3, 6}, {'x','y'}), {(3,'x'):-2, (6,'y'):3})\n",
    "    True\n",
    "    >>> zero = Mat(({3,6}, {'x','y'}), {})\n",
    "    >>> B + zero == B\n",
    "    True\n",
    "    >>> C1 = Mat(({1,3}, {2,4}), {(1,2):2, (3,4):3})\n",
    "    >>> C2 = Mat(({1,3}, {2,4}), {(1,4):1, (1,2):4})\n",
    "    >>> D = Mat(({1,3}, {2,4}), {(1,2):6, (1,4):1, (3,4):3})\n",
    "    >>> C1 + C2 == D\n",
    "    True\n",
    "    \"\"\"\n",
    "    assert A.D == B.D\n",
    "\n",
    "    A_f = A.f\n",
    "    B_f = B.f\n",
    "    A_f_keys = A_f.keys()\n",
    "    B_f_keys = B_f.keys()\n",
    "    result_mat = Mat(A.D, {})\n",
    "    result_mat_f = result_mat.f\n",
    "    for k in A_f_keys - B_f_keys:\n",
    "        result_mat_f[k] = A_f[k]\n",
    "    for k in B_f_keys - A_f_keys:\n",
    "        result_mat_f[k] = B_f[k]\n",
    "    for k in A_f_keys & B_f_keys:\n",
    "        result_mat_f[k] = A_f[k] + B_f[k]\n",
    "    return result_mat\n",
    "\n",
    "def scalar_mul(M, x):\n",
    "    \"\"\"\n",
    "    Returns the result of scaling M by x.\n",
    "\n",
    "    >>> M = Mat(({1,3,5}, {2,4}), {(1,2):4, (5,4):2, (3,4):3})\n",
    "    >>> 0*M == Mat(({1, 3, 5}, {2, 4}), {})\n",
    "    True\n",
    "    >>> 1*M == M\n",
    "    True\n",
    "    >>> 0.25*M == Mat(({1,3,5}, {2,4}), {(1,2):1.0, (5,4):0.5, (3,4):0.75})\n",
    "    True\n",
    "    \"\"\"\n",
    "    result_mat = Mat(M.D, {})\n",
    "    if x == 0:\n",
    "        return result_mat\n",
    "    M_f = M.f\n",
    "    result_mat_f = result_mat.f\n",
    "    for k in M_f:\n",
    "        result_mat_f[k] = x*M_f[k]\n",
    "    return result_mat\n",
    "    \n",
    "def equal(A, B):\n",
    "    \"\"\"\n",
    "    Returns true iff A is equal to B.\n",
    "\n",
    "    >>> Mat(({'a','b'}, {0,1}), {('a',1):0}) == Mat(({'a','b'}, {0,1}), {('b',1):0})\n",
    "    True\n",
    "    >>> A = Mat(({'a','b'}, {0,1}), {('a',1):2, ('b',0):1})\n",
    "    >>> B = Mat(({'a','b'}, {0,1}), {('a',1):2, ('b',0):1, ('b',1):0})\n",
    "    >>> C = Mat(({'a','b'}, {0,1}), {('a',1):2, ('b',0):1, ('b',1):5})\n",
    "    >>> A == B\n",
    "    True\n",
    "    >>> A == C\n",
    "    False\n",
    "    >>> A == Mat(({'a','b'}, {0,1}), {('a',1):2, ('b',0):1})\n",
    "    True\n",
    "    \"\"\"\n",
    "    assert A.D == B.D\n",
    "\n",
    "    A_f = A.f\n",
    "    B_f = B.f\n",
    "    A_f_keys = A_f.keys()\n",
    "    B_f_keys = B_f.keys()\n",
    "    for k in A_f_keys & B_f_keys:\n",
    "        if A_f[k] != B_f[k]:\n",
    "            return False\n",
    "    for k in A_f_keys - B_f_keys:\n",
    "        if A_f[k] != 0:\n",
    "            return False\n",
    "    for k in B_f_keys - A_f_keys:\n",
    "        if B_f[k] != 0:\n",
    "            return False\n",
    "    return True\n",
    "\n",
    "def transpose(M):\n",
    "    \"\"\"\n",
    "    Returns the matrix that is the transpose of M.\n",
    "\n",
    "    >>> M = Mat(({0,1}, {0,1}), {(0,1):3, (1,0):2, (1,1):4})\n",
    "    >>> M.transpose() == Mat(({0,1}, {0,1}), {(0,1):2, (1,0):3, (1,1):4})\n",
    "    True\n",
    "    >>> M = Mat(({'x','y','z'}, {2,4}), {('x',4):3, ('x',2):2, ('y',4):4, ('z',4):5})\n",
    "    >>> Mt = Mat(({2,4}, {'x','y','z'}), {(4,'x'):3, (2,'x'):2, (4,'y'):4, (4,'z'):5})\n",
    "    >>> M.transpose() == Mt\n",
    "    True\n",
    "    \"\"\"\n",
    "    return Mat((M.D[1], M.D[0]), {(q, p):val for (p, q), val in M.f.items()})\n",
    "\n",
    "def vector_matrix_mul(v, M):\n",
    "    \"\"\"\n",
    "    returns the product of vector v and matrix M\n",
    "\n",
    "    >>> v1 = Vec({1, 2, 3}, {1: 1, 2: 8})\n",
    "    >>> M1 = Mat(({1, 2, 3}, {'a', 'b', 'c'}), {(1, 'b'): 2, (2, 'a'):-1, (3, 'a'): 1, (3, 'c'): 7})\n",
    "    >>> v1*M1 == Vec({'a', 'b', 'c'},{'a': -8, 'b': 2, 'c': 0})\n",
    "    True\n",
    "    >>> v1 == Vec({1, 2, 3}, {1: 1, 2: 8})\n",
    "    True\n",
    "    >>> M1 == Mat(({1, 2, 3}, {'a', 'b', 'c'}), {(1, 'b'): 2, (2, 'a'):-1, (3, 'a'): 1, (3, 'c'): 7})\n",
    "    True\n",
    "    >>> v2 = Vec({'a','b'}, {})\n",
    "    >>> M2 = Mat(({'a','b'}, {0, 2, 4, 6, 7}), {})\n",
    "    >>> v2*M2 == Vec({0, 2, 4, 6, 7},{})\n",
    "    True\n",
    "    \"\"\"\n",
    "    assert M.D[0] == v.D\n",
    "\n",
    "    M_f = M.f\n",
    "    result_v = Vec(M.D[1], {})\n",
    "    for (r, c) in M_f:\n",
    "        result_v[c] += v[r]*M_f[(r, c)]\n",
    "    return result_v\n",
    "\n",
    "def matrix_vector_mul(M, v):\n",
    "    \"\"\"\n",
    "    Returns the product of matrix M and vector v\n",
    "\n",
    "    >>> N1 = Mat(({1, 3, 5, 7}, {'a', 'b'}), {(1, 'a'): -1, (1, 'b'): 2, (3, 'a'): 1, (3, 'b'):4, (7, 'a'): 3, (5, 'b'):-1})\n",
    "    >>> u1 = Vec({'a', 'b'}, {'a': 1, 'b': 2})\n",
    "    >>> N1*u1 == Vec({1, 3, 5, 7},{1: 3, 3: 9, 5: -2, 7: 3})\n",
    "    True\n",
    "    >>> N1 == Mat(({1, 3, 5, 7}, {'a', 'b'}), {(1, 'a'): -1, (1, 'b'): 2, (3, 'a'): 1, (3, 'b'):4, (7, 'a'): 3, (5, 'b'):-1})\n",
    "    True\n",
    "    >>> u1 == Vec({'a', 'b'}, {'a': 1, 'b': 2})\n",
    "    True\n",
    "    >>> N2 = Mat(({('a', 'b'), ('c', 'd')}, {1, 2, 3, 5, 8}), {})\n",
    "    >>> u2 = Vec({1, 2, 3, 5, 8}, {})\n",
    "    >>> N2*u2 == Vec({('a', 'b'), ('c', 'd')},{})\n",
    "    True\n",
    "    \"\"\"\n",
    "\n",
    "    assert M.D[1] == v.D\n",
    "\n",
    "    M_f = M.f\n",
    "    result_v = Vec(M.D[0], {})\n",
    "    for (r, c) in M_f:\n",
    "        result_v[r] += M_f[(r, c)]*v[c]\n",
    "    return result_v\n",
    "\n",
    "def matrix_matrix_mul(A, B):\n",
    "    \"\"\"\n",
    "    Returns the result of the matrix-matrix multiplication, A*B.\n",
    "\n",
    "    >>> A = Mat(({0,1,2}, {0,1,2}), {(1,1):4, (0,0):0, (1,2):1, (1,0):5, (0,1):3, (0,2):2})\n",
    "    >>> B = Mat(({0,1,2}, {0,1,2}), {(1,0):5, (2,1):3, (1,1):2, (2,0):0, (0,0):1, (0,1):4})\n",
    "    >>> A*B == Mat(({0,1,2}, {0,1,2}), {(0,0):15, (0,1):12, (1,0):25, (1,1):31})\n",
    "    True\n",
    "    >>> C = Mat(({0,1,2}, {'a','b'}), {(0,'a'):4, (0,'b'):-3, (1,'a'):1, (2,'a'):1, (2,'b'):-2})\n",
    "    >>> D = Mat(({'a','b'}, {'x','y'}), {('a','x'):3, ('a','y'):-2, ('b','x'):4, ('b','y'):-1})\n",
    "    >>> C*D == Mat(({0,1,2}, {'x','y'}), {(0,'y'):-5, (1,'x'):3, (1,'y'):-2, (2,'x'):-5})\n",
    "    True\n",
    "    >>> M = Mat(({0, 1}, {'a', 'c', 'b'}), {})\n",
    "    >>> N = Mat(({'a', 'c', 'b'}, {(1, 1), (2, 2)}), {})\n",
    "    >>> M*N == Mat(({0,1}, {(1,1), (2,2)}), {})\n",
    "    True\n",
    "    \"\"\"\n",
    "\n",
    "    assert A.D[1] == B.D[0]\n",
    "\n",
    "    DB2 = B.D[1]\n",
    "    A_f = A.f\n",
    "    B_f = B.f\n",
    "    result_mat = Mat((A.D[0], DB2), {})\n",
    "\n",
    "    for (r, i) in A_f:\n",
    "        for c in DB2:\n",
    "            if (i, c) in B_f:\n",
    "                result_mat[r, c] += A_f[(r, i)]*B_f[(i, c)]\n",
    "    return result_mat\n",
    "\n",
    "################################################################################\n",
    "\n",
    "class Mat:\n",
    "    def __init__(self, labels, function):\n",
    "        self.D = labels\n",
    "        self.f = function\n",
    "\n",
    "    __getitem__ = getitem\n",
    "    __setitem__ = setitem\n",
    "    transpose = transpose\n",
    "\n",
    "    def __neg__(self):\n",
    "        return (-1)*self\n",
    "\n",
    "    def __mul__(self,other):\n",
    "        if Mat == type(other):\n",
    "            return matrix_matrix_mul(self,other)\n",
    "        elif Vec == type(other):\n",
    "            return matrix_vector_mul(self,other)\n",
    "        else:\n",
    "            return scalar_mul(self,other)\n",
    "            #this will only be used if other is scalar (or not-supported). mat and vec both have __mul__ implemented\n",
    "\n",
    "    def __rmul__(self, other):\n",
    "        if Vec == type(other):\n",
    "            return vector_matrix_mul(other, self)\n",
    "        else:  # Assume scalar\n",
    "            return scalar_mul(self, other)\n",
    "\n",
    "    __add__ = add\n",
    "\n",
    "    def __sub__(a,b):\n",
    "        return a+(-b)\n",
    "\n",
    "    __eq__ = equal\n",
    "\n",
    "    def copy(self):\n",
    "        return Mat(self.D, self.f.copy())\n",
    "\n",
    "    def __str__(M, rows=None, cols=None):\n",
    "        \"string representation for print()\"\n",
    "        if rows == None: rows = sorted(M.D[0], key=hash)\n",
    "        if cols == None: cols = sorted(M.D[1], key=hash)\n",
    "        separator = ' | '\n",
    "        numdec = 3\n",
    "        pre = 1+max([len(str(r)) for r in rows])\n",
    "        colw = {col:(1+max([len(str(col))] + [len('{0:.{1}G}'.format(M[row,col],numdec)) if isinstance(M[row,col], int) or isinstance(M[row,col], float) else len(str(M[row,col])) for row in rows])) for col in cols}\n",
    "        s1 = ' '*(1+ pre + len(separator))\n",
    "        s2 = ''.join(['{0:>{1}}'.format(str(c),colw[c]) for c in cols])\n",
    "        s3 = ' '*(pre+len(separator)) + '-'*(sum(list(colw.values())) + 1)\n",
    "        s4 = ''.join(['{0:>{1}} {2}'.format(str(r), pre,separator)+''.join(['{0:>{1}.{2}G}'.format(M[r,c],colw[c],numdec) if isinstance(M[r,c], int) or isinstance(M[r,c], float) else '{0:>{1}}'.format(M[r,c], colw[c]) for c in cols])+'\\n' for r in rows])\n",
    "        return '\\n' + s1 + s2 + '\\n' + s3 + '\\n' + s4\n",
    "\n",
    "    def pp(self, rows, cols):\n",
    "        print(self.__str__(rows, cols))\n",
    "\n",
    "    def __repr__(self):\n",
    "        \"evaluatable representation\"\n",
    "        return \"Mat(\" + str(self.D) +\", \" + str(self.f) + \")\"\n"
   ]
  },
  {
   "cell_type": "code",
   "execution_count": 13,
   "metadata": {
    "collapsed": false
   },
   "outputs": [
    {
     "data": {
      "text/plain": [
       "TestResults(failed=0, attempted=64)"
      ]
     },
     "execution_count": 13,
     "metadata": {},
     "output_type": "execute_result"
    }
   ],
   "source": [
    "import doctest\n",
    "import mat\n",
    "import importlib\n",
    "importlib.reload(mat)\n",
    "doctest.testmod(mat)"
   ]
  },
  {
   "cell_type": "markdown",
   "metadata": {},
   "source": [
    "## p.260 問題4.17.12"
   ]
  },
  {
   "cell_type": "code",
   "execution_count": 15,
   "metadata": {
    "collapsed": true
   },
   "outputs": [],
   "source": [
    "from matutil import mat2rowdict, mat2coldict, rowdict2mat, coldict2mat, listlist2mat\n",
    "from vecutil import zero_vec, list2vec"
   ]
  },
  {
   "cell_type": "code",
   "execution_count": 16,
   "metadata": {
    "collapsed": true
   },
   "outputs": [],
   "source": [
    "def lin_comb_mat_vec_mult(M, v):\n",
    "    coldict = mat2coldict(M)\n",
    "    result_vec = zero_vec(M.D[0])\n",
    "    for k in v.D:\n",
    "        result_vec += v[k]*coldict[k]\n",
    "    return result_vec"
   ]
  },
  {
   "cell_type": "code",
   "execution_count": 20,
   "metadata": {
    "collapsed": false
   },
   "outputs": [
    {
     "name": "stdout",
     "output_type": "stream",
     "text": [
      "\n",
      " 0 1 2\n",
      "------\n",
      " 1 5 6\n"
     ]
    }
   ],
   "source": [
    "M = listlist2mat([[-1, 1, 2], [1, 2, 3], [2, 2, 1]])\n",
    "v = list2vec([1, 2, 0])\n",
    "print(lin_comb_mat_vec_mult(M, v))"
   ]
  },
  {
   "cell_type": "markdown",
   "metadata": {},
   "source": [
    "## p.260 問題4.17.13"
   ]
  },
  {
   "cell_type": "code",
   "execution_count": 18,
   "metadata": {
    "collapsed": true
   },
   "outputs": [],
   "source": [
    "def lin_comb_vec_mat_mult(v, M):\n",
    "    rowdict = mat2rowdict(M)\n",
    "    result_vec = zero_vec(M.D[1])\n",
    "    for k in v.D:\n",
    "        result_vec += v[k]*rowdict[k]\n",
    "    return result_vec"
   ]
  },
  {
   "cell_type": "code",
   "execution_count": 21,
   "metadata": {
    "collapsed": false
   },
   "outputs": [
    {
     "name": "stdout",
     "output_type": "stream",
     "text": [
      "\n",
      "   0  1\n",
      "-------\n",
      " -40 80\n"
     ]
    }
   ],
   "source": [
    "M = listlist2mat([[-5, 10], [-4, 8], [-3, 6], [-2, 4]])\n",
    "v = list2vec([4, 3, 2, 1])\n",
    "print(lin_comb_vec_mat_mult(v, M))"
   ]
  },
  {
   "cell_type": "markdown",
   "metadata": {},
   "source": [
    "## p.260 問題4.17.14"
   ]
  },
  {
   "cell_type": "code",
   "execution_count": null,
   "metadata": {
    "collapsed": true
   },
   "outputs": [],
   "source": [
    "def dot_product_mat_vec_mult(M, v):\n",
    "    rowdict = mat2rowdict(M)\n",
    "    return Vec(M.D[0], {r:rowdict[r]*v for r in M.D[0]})"
   ]
  },
  {
   "cell_type": "code",
   "execution_count": 22,
   "metadata": {
    "collapsed": false
   },
   "outputs": [
    {
     "name": "stdout",
     "output_type": "stream",
     "text": [
      "\n",
      " 0 1 2\n",
      "------\n",
      " 1 5 6\n"
     ]
    }
   ],
   "source": [
    "M = listlist2mat([[-1, 1, 2], [1, 2, 3], [2, 2, 1]])\n",
    "v = list2vec([1, 2, 0])\n",
    "print(lin_comb_mat_vec_mult(M, v))"
   ]
  },
  {
   "cell_type": "markdown",
   "metadata": {},
   "source": [
    "## p.260 問題4.17.15"
   ]
  },
  {
   "cell_type": "code",
   "execution_count": 23,
   "metadata": {
    "collapsed": true
   },
   "outputs": [],
   "source": [
    "def dot_product_vec_mat_mult(v, M):\n",
    "    coldict = mat2coldict(M)\n",
    "    return Vec(M.D[1], {c:v*coldict[c] for c in M.D[1]})"
   ]
  },
  {
   "cell_type": "code",
   "execution_count": 24,
   "metadata": {
    "collapsed": false
   },
   "outputs": [
    {
     "name": "stdout",
     "output_type": "stream",
     "text": [
      "\n",
      "   0  1\n",
      "-------\n",
      " -40 80\n"
     ]
    }
   ],
   "source": [
    "M = listlist2mat([[-5, 10], [-4, 8], [-3, 6], [-2, 4]])\n",
    "v = list2vec([4, 3, 2, 1])\n",
    "print(lin_comb_vec_mat_mult(v, M))"
   ]
  },
  {
   "cell_type": "markdown",
   "metadata": {},
   "source": [
    "## p.261 問題4.17.16"
   ]
  },
  {
   "cell_type": "code",
   "execution_count": 26,
   "metadata": {
    "collapsed": true
   },
   "outputs": [],
   "source": [
    "def Mv_mat_mat_mult(A, B):\n",
    "    coldict = mat2coldict(B)\n",
    "    return coldict2mat({c:A*coldict[c] for c in B.D[1]})"
   ]
  },
  {
   "cell_type": "code",
   "execution_count": 27,
   "metadata": {
    "collapsed": false
   },
   "outputs": [
    {
     "name": "stdout",
     "output_type": "stream",
     "text": [
      "\n",
      "        0  1  2\n",
      "     ----------\n",
      " 0  |  10  4 -2\n",
      " 1  |  -1 -1 -1\n",
      "\n"
     ]
    }
   ],
   "source": [
    "A = listlist2mat([[1, 2], [-1, 1]])\n",
    "B = listlist2mat([[4, 2, 0], [3, 1, -1]])\n",
    "print(Mv_mat_mat_mult(A, B))"
   ]
  },
  {
   "cell_type": "markdown",
   "metadata": {},
   "source": [
    "## p.261 問題4.17.17"
   ]
  },
  {
   "cell_type": "code",
   "execution_count": 28,
   "metadata": {
    "collapsed": true
   },
   "outputs": [],
   "source": [
    "def vM_mat_mat_mult(A, B):\n",
    "    rowdict = mat2rowdict(A)\n",
    "    return rowdict2mat({r:rowdict[r]*B for r in A.D[0]})"
   ]
  },
  {
   "cell_type": "code",
   "execution_count": 29,
   "metadata": {
    "collapsed": false
   },
   "outputs": [
    {
     "name": "stdout",
     "output_type": "stream",
     "text": [
      "\n",
      "        0  1  2\n",
      "     ----------\n",
      " 0  |  10  4 -2\n",
      " 1  |  -1 -1 -1\n",
      "\n"
     ]
    }
   ],
   "source": [
    "A = listlist2mat([[1, 2], [-1, 1]])\n",
    "B = listlist2mat([[4, 2, 0], [3, 1, -1]])\n",
    "print(Mv_mat_mat_mult(A, B))"
   ]
  },
  {
   "cell_type": "markdown",
   "metadata": {},
   "source": [
    "## p.261 問題4.17.18\n",
    "\n",
    ">ソートするには以下を用いる。\n",
    "\n",
    "    sorted([(value, key) for key, value in M.f.items()])\n",
    "    \n",
    "と書かれていますが、行列 $M$ はスパース表現を採用しているため、その要素のうち値が $0$ であるものが無視されてしまうという問題があります。無視してしまってもこの問題に関しては結果は変わりませんが、正しいやり方とはいえません。\n",
    "\n",
    "\n"
   ]
  },
  {
   "cell_type": "code",
   "execution_count": 30,
   "metadata": {
    "collapsed": true
   },
   "outputs": [],
   "source": [
    "def create_voting_dict(strlist):\n",
    "    listlist = [l.split() for l in strlist]\n",
    "    return {l[0]:list2vec([int(e) for e in l[1:]]) for l in listlist}\n",
    "\n",
    "f = open('UN_voting_data.txt')\n",
    "strlist = list(f)\n",
    "voting_dict = create_voting_dict(strlist)\n",
    "\n",
    "A = coldict2mat(voting_dict)\n",
    "M = (A.transpose())*A"
   ]
  },
  {
   "cell_type": "code",
   "execution_count": 33,
   "metadata": {
    "collapsed": true
   },
   "outputs": [],
   "source": [
    "import pickle\n",
    "with open('problem_04_17_18_M.pickle', 'wb') as f:\n",
    "    pickle.dump(M, f)"
   ]
  },
  {
   "cell_type": "code",
   "execution_count": 78,
   "metadata": {
    "collapsed": true
   },
   "outputs": [],
   "source": [
    "import pickle\n",
    "with open('problem_04_17_18_M.pickle', 'rb') as f:\n",
    "    M = pickle.load(f)"
   ]
  },
  {
   "cell_type": "code",
   "execution_count": 88,
   "metadata": {
    "collapsed": false
   },
   "outputs": [],
   "source": [
    "S = set()\n",
    "for i in M.D[0]:\n",
    "    for j in M.D[1]:\n",
    "        if i >= j:\n",
    "            continue\n",
    "        else:\n",
    "            S.add(((i, j), M[i, j]))\n",
    "L = list(S)\n",
    "L = sorted(L, key=lambda e: e[1])"
   ]
  },
  {
   "cell_type": "markdown",
   "metadata": {},
   "source": [
    "### 1."
   ]
  },
  {
   "cell_type": "code",
   "execution_count": 89,
   "metadata": {
    "collapsed": false
   },
   "outputs": [
    {
     "data": {
      "text/plain": [
       "(('Belarus', 'United_States_of_America'), -1927)"
      ]
     },
     "execution_count": 89,
     "metadata": {},
     "output_type": "execute_result"
    }
   ],
   "source": [
    "L[0]"
   ]
  },
  {
   "cell_type": "markdown",
   "metadata": {},
   "source": [
    "### 2."
   ]
  },
  {
   "cell_type": "code",
   "execution_count": 90,
   "metadata": {
    "collapsed": false
   },
   "outputs": [
    {
     "name": "stdout",
     "output_type": "stream",
     "text": [
      "(('Belarus', 'United_States_of_America'), -1927)\n",
      "(('Syria', 'United_States_of_America'), -1861)\n",
      "(('Cuba', 'United_States_of_America'), -1807)\n",
      "(('Algeria', 'United_States_of_America'), -1742)\n",
      "(('United_States_of_America', 'Viet_Nam'), -1740)\n",
      "(('Libya', 'United_States_of_America'), -1665)\n",
      "(('Guinea', 'United_States_of_America'), -1616)\n",
      "(('Mongolia', 'United_States_of_America'), -1615)\n",
      "(('Mali', 'United_States_of_America'), -1605)\n",
      "(('Sudan', 'United_States_of_America'), -1582)\n"
     ]
    }
   ],
   "source": [
    "for i in range(10):\n",
    "    print(L[i])"
   ]
  },
  {
   "cell_type": "markdown",
   "metadata": {},
   "source": [
    "### 3."
   ]
  },
  {
   "cell_type": "code",
   "execution_count": 91,
   "metadata": {
    "collapsed": false
   },
   "outputs": [
    {
     "data": {
      "text/plain": [
       "(('Philippines', 'Thailand'), 4229)"
      ]
     },
     "execution_count": 91,
     "metadata": {},
     "output_type": "execute_result"
    }
   ],
   "source": [
    "L[-1]"
   ]
  },
  {
   "cell_type": "markdown",
   "metadata": {},
   "source": [
    "## p.262 問題4.17.19"
   ]
  },
  {
   "cell_type": "code",
   "execution_count": 92,
   "metadata": {
    "collapsed": true
   },
   "outputs": [],
   "source": [
    "def dictlist_helper(dlist, k):\n",
    "    return [d[k] for d in dlist]"
   ]
  },
  {
   "cell_type": "code",
   "execution_count": 94,
   "metadata": {
    "collapsed": false
   },
   "outputs": [
    {
     "data": {
      "text/plain": [
       "['apple', 1]"
      ]
     },
     "execution_count": 94,
     "metadata": {},
     "output_type": "execute_result"
    }
   ],
   "source": [
    "dlist = [{'a':'apple', 'b':'bear'}, {'a':1, 'b':2}]\n",
    "k = 'a'\n",
    "dictlist_helper(dlist, k)"
   ]
  },
  {
   "cell_type": "markdown",
   "metadata": {},
   "source": [
    "## pp.262-263 問題4.17.20, 問題4.17.21, 問題4.17.22\n",
    "\n",
    "解答略"
   ]
  }
 ],
 "metadata": {
  "kernelspec": {
   "display_name": "Python [Root]",
   "language": "python",
   "name": "Python [Root]"
  },
  "language_info": {
   "codemirror_mode": {
    "name": "ipython",
    "version": 3
   },
   "file_extension": ".py",
   "mimetype": "text/x-python",
   "name": "python",
   "nbconvert_exporter": "python",
   "pygments_lexer": "ipython3",
   "version": "3.5.1"
  }
 },
 "nbformat": 4,
 "nbformat_minor": 0
}
