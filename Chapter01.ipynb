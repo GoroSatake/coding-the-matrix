{
 "cells": [
  {
   "cell_type": "markdown",
   "metadata": {},
   "source": [
    "## p.51 課題1.4.1"
   ]
  },
  {
   "cell_type": "code",
   "execution_count": 2,
   "metadata": {
    "collapsed": false
   },
   "outputs": [],
   "source": [
    "from plotting import plot"
   ]
  },
  {
   "cell_type": "code",
   "execution_count": 5,
   "metadata": {
    "collapsed": true
   },
   "outputs": [],
   "source": [
    "S = {2 + 2j, 3 + 2j, 1.75 + 1j, 2 + 1j, 2.25 + 1j, 2.5 + 1j, 2.75 + 1j, 3 + 1j, 3.25 + 1j}\n",
    "plot(S, 4)"
   ]
  },
  {
   "cell_type": "markdown",
   "metadata": {},
   "source": [
    "[結果](task_01_04_01.html)"
   ]
  },
  {
   "cell_type": "markdown",
   "metadata": {},
   "source": [
    "## p.54 課題1.4.3"
   ]
  },
  {
   "cell_type": "code",
   "execution_count": 8,
   "metadata": {
    "collapsed": true
   },
   "outputs": [],
   "source": [
    "plot({z + 1 + 2j for z in S}, 4.5)"
   ]
  },
  {
   "cell_type": "markdown",
   "metadata": {},
   "source": [
    "[結果](task_01_04_03.html)"
   ]
  },
  {
   "cell_type": "markdown",
   "metadata": {},
   "source": [
    "## p.54 問題1.4.5\n",
    "\n",
    "$z_1$ を $z_2$ に写す平行移動を $f(z) = z + a$ とすると、 $f(z_1) = z_1 + a = z_2$ であるから、 $a = z_2 - z_1$ でなければならない。逆に $a = z_2 - z_1$ とすれば、 $f(z) = z + a$ は $z_1$ を $z_2$ に写す。よって、 $z_1$ を $z_2$ に写す平行移動は、（一意的に存在し、）\n",
    "\n",
    "$f(z) = z + (z_2 - z_1)$\n",
    "\n",
    "である。\n",
    "\n",
    "同様にして、$z_1$ を $z_2$ に写す平行移動は、\n",
    "\n",
    "$f(z) = z + (z_1 - z_2)$\n",
    "\n",
    "である。\n",
    "\n",
    "仮定により、 $z_1$ と $z_2$ は異なる複素数であるから、 $z_2 - z_1 \\ne z_1 - z_2$ である。よって、$z_1$ を $z_2$ に写し、$z_2$ を $z_1$ に写す平行移動は存在しない。\n"
   ]
  },
  {
   "cell_type": "markdown",
   "metadata": {},
   "source": [
    "## p.55 問題1.4.6\n",
    "\n",
    "解答略"
   ]
  },
  {
   "cell_type": "markdown",
   "metadata": {},
   "source": [
    "## p.56 課題1.4.7"
   ]
  },
  {
   "cell_type": "code",
   "execution_count": 13,
   "metadata": {
    "collapsed": true
   },
   "outputs": [],
   "source": [
    "plot({(1/2)*z for z in S}, 4, 2)"
   ]
  },
  {
   "cell_type": "markdown",
   "metadata": {},
   "source": [
    "[結果](task_01_04_07.html)"
   ]
  },
  {
   "cell_type": "markdown",
   "metadata": {},
   "source": [
    "## p.57 課題1.4.8"
   ]
  },
  {
   "cell_type": "code",
   "execution_count": 21,
   "metadata": {
    "collapsed": false
   },
   "outputs": [],
   "source": [
    "plot({complex(0, 1/2)*z for z in S}, 4, 2)"
   ]
  },
  {
   "cell_type": "markdown",
   "metadata": {},
   "source": [
    "[結果](task_01_04_08.html)"
   ]
  },
  {
   "cell_type": "markdown",
   "metadata": {},
   "source": [
    "## p.58 課題1.4.9"
   ]
  },
  {
   "cell_type": "code",
   "execution_count": 23,
   "metadata": {
    "collapsed": false
   },
   "outputs": [],
   "source": [
    "plot({complex(0, 1/2)*z + complex(2, -1) for z in S}, 4, 2)"
   ]
  },
  {
   "cell_type": "markdown",
   "metadata": {},
   "source": [
    "[結果](task_01_04_09.html)"
   ]
  },
  {
   "cell_type": "markdown",
   "metadata": {},
   "source": [
    "## p.58 課題1.4.10"
   ]
  },
  {
   "cell_type": "code",
   "execution_count": 50,
   "metadata": {
    "collapsed": false
   },
   "outputs": [],
   "source": [
    "from image import file2image\n",
    "from image import color2gray"
   ]
  },
  {
   "cell_type": "code",
   "execution_count": 53,
   "metadata": {
    "collapsed": false
   },
   "outputs": [],
   "source": [
    "data = color2gray(file2image('img01.png'))"
   ]
  },
  {
   "cell_type": "code",
   "execution_count": 70,
   "metadata": {
    "collapsed": false
   },
   "outputs": [],
   "source": [
    "width = len(data[0])\n",
    "height = len(data)\n",
    "pts1 = {complex(x, y) for x in range(width) for y in range(height) if data[y][x] < 120}\n",
    "pts2 = {complex(x, (height - 1) - y) for x in range(width) for y in range(height) if data[y][x] < 120}\n",
    "#正解となる図\n",
    "plot(pts1, height + 1, 1.5)\n",
    "#正解を上下反転した図\n",
    "plot(pts2, height + 1, 1.5)"
   ]
  },
  {
   "cell_type": "markdown",
   "metadata": {},
   "source": [
    "[結果（p.59の図と上下が反転しているがこちらが問題文に忠実な答え）](task_01_04_10_correct_ans.html)"
   ]
  },
  {
   "cell_type": "markdown",
   "metadata": {},
   "source": [
    "[p.59の図と同様の図](task_01_04_10.html)"
   ]
  },
  {
   "cell_type": "markdown",
   "metadata": {},
   "source": [
    "## p.59 課題1.4.11"
   ]
  },
  {
   "cell_type": "code",
   "execution_count": 63,
   "metadata": {
    "collapsed": true
   },
   "outputs": [],
   "source": [
    "def center(pts):\n",
    "    pts_real = {z.real for z in pts}\n",
    "    pts_imag = {z.imag for z in pts}\n",
    "    \n",
    "    max_real = max(pts_real)\n",
    "    min_real = min(pts_real)\n",
    "    max_imag = max(pts_imag)\n",
    "    min_imag = min(pts_imag)\n",
    "    \n",
    "    a = (max_real + min_real) / 2\n",
    "    b = (max_imag + min_imag) / 2\n",
    "    \n",
    "    return {z - complex(a, b) for z in pts}"
   ]
  },
  {
   "cell_type": "code",
   "execution_count": 67,
   "metadata": {
    "collapsed": false
   },
   "outputs": [],
   "source": [
    "S = {2 + 2j, 3 + 2j, 1.75 + 1j, 2 + 1j, 2.25 + 1j, 2.5 + 1j, 2.75 + 1j, 3 + 1j, 3.25 + 1j}\n",
    "plot(center(S), 4)"
   ]
  },
  {
   "cell_type": "markdown",
   "metadata": {},
   "source": [
    "[結果](task_01_04_11.html)"
   ]
  },
  {
   "cell_type": "markdown",
   "metadata": {},
   "source": [
    "## p.59 課題1.4.12"
   ]
  },
  {
   "cell_type": "code",
   "execution_count": 69,
   "metadata": {
    "collapsed": true
   },
   "outputs": [],
   "source": [
    "plot(center(pts2), height + 1, 1.5)"
   ]
  },
  {
   "cell_type": "markdown",
   "metadata": {},
   "source": [
    "[結果](task_01_04_12.html)"
   ]
  },
  {
   "cell_type": "markdown",
   "metadata": {},
   "source": [
    "## p.62 課題1.4.17"
   ]
  },
  {
   "cell_type": "code",
   "execution_count": 82,
   "metadata": {
    "collapsed": false
   },
   "outputs": [],
   "source": [
    "from math import e, pi, exp\n",
    "n = 20\n",
    "w = e**complex(0, 2*pi/n)\n",
    "plot([w**i for i in range(n)], 2)"
   ]
  },
  {
   "cell_type": "markdown",
   "metadata": {},
   "source": [
    "[結果](task_01_04_17.html)"
   ]
  },
  {
   "cell_type": "markdown",
   "metadata": {},
   "source": [
    "## pp.64-65 課題1.4.18、課題1.4.19、課題1.4.20"
   ]
  },
  {
   "cell_type": "code",
   "execution_count": 83,
   "metadata": {
    "collapsed": true
   },
   "outputs": [],
   "source": [
    "plot({e**complex(0, pi/4) * z for z in S}, 4)"
   ]
  },
  {
   "cell_type": "markdown",
   "metadata": {},
   "source": [
    "[結果](task_01_04_18.html)"
   ]
  },
  {
   "cell_type": "code",
   "execution_count": 86,
   "metadata": {
    "collapsed": true
   },
   "outputs": [],
   "source": [
    "plot({e**complex(0, pi/4) * z for z in pts2}, height + 20, 1.5)"
   ]
  },
  {
   "cell_type": "markdown",
   "metadata": {},
   "source": [
    "[結果](task_01_04_19.html)"
   ]
  },
  {
   "cell_type": "code",
   "execution_count": 89,
   "metadata": {
    "collapsed": true
   },
   "outputs": [],
   "source": [
    "plot({0.5 * e**complex(0, pi/4) * z for z in center(pts2)}, height + 20, 1.5)"
   ]
  },
  {
   "cell_type": "markdown",
   "metadata": {},
   "source": [
    "[結果](task_01_04_20.html)"
   ]
  },
  {
   "cell_type": "markdown",
   "metadata": {},
   "source": [
    "## p.68 問題1.5.1"
   ]
  },
  {
   "cell_type": "code",
   "execution_count": 109,
   "metadata": {
    "collapsed": true
   },
   "outputs": [],
   "source": [
    "def c2i(s): return 0 if s == '0' else 1"
   ]
  },
  {
   "cell_type": "code",
   "execution_count": 111,
   "metadata": {
    "collapsed": true
   },
   "outputs": [],
   "source": [
    "def s2ilist(s): return [c2i(c) for c in s]"
   ]
  },
  {
   "cell_type": "code",
   "execution_count": 87,
   "metadata": {
    "collapsed": true
   },
   "outputs": [],
   "source": [
    "def dec(c, k): return (c + k ) % 2"
   ]
  },
  {
   "cell_type": "code",
   "execution_count": 88,
   "metadata": {
    "collapsed": true
   },
   "outputs": [],
   "source": [
    "def dec5bit(clist5, klist5): return [dec(c, k) for (c, k) in zip(clist5, klist5)]"
   ]
  },
  {
   "cell_type": "code",
   "execution_count": 105,
   "metadata": {
    "collapsed": true
   },
   "outputs": [],
   "source": [
    "def plist5_to_chr(plist5):\n",
    "    diff = 0\n",
    "    for i in plist5:\n",
    "        diff *= 2\n",
    "        diff += i\n",
    "    if diff == 26:\n",
    "        return ' '\n",
    "    elif diff <= 25:\n",
    "        return chr(ord('A') + diff)\n",
    "    else:\n",
    "        return None"
   ]
  },
  {
   "cell_type": "code",
   "execution_count": 101,
   "metadata": {
    "collapsed": false
   },
   "outputs": [],
   "source": [
    "def dec55bit(clist, klist5):\n",
    "    s = ''\n",
    "    for i in range(0, len(clist), 5):\n",
    "        p = plist5_to_chr(dec5bit(clist[i:i+5], klist5))\n",
    "        if p is None:\n",
    "            return None\n",
    "        s += p\n",
    "    return s"
   ]
  },
  {
   "cell_type": "code",
   "execution_count": 91,
   "metadata": {
    "collapsed": true
   },
   "outputs": [],
   "source": [
    "def list_of_klist5():\n",
    "    n = 5\n",
    "    ll = []\n",
    "    for i in range(2**n):\n",
    "        t = i\n",
    "        l = []\n",
    "        for j in range(n):\n",
    "            l.append(t % 2)\n",
    "            t //= 2\n",
    "        l.reverse()\n",
    "        ll.append(l)\n",
    "    return ll"
   ]
  },
  {
   "cell_type": "code",
   "execution_count": 92,
   "metadata": {
    "collapsed": true
   },
   "outputs": [],
   "source": [
    "def candidates(clist):\n",
    "    ll = list_of_klist5()\n",
    "    candidates_list = []\n",
    "    for klist5 in ll:\n",
    "        pstr = dec55bit(clist, klist5)\n",
    "        if pstr is not None:\n",
    "            candidates_list.append([pstr, klist5])\n",
    "    return candidates_list"
   ]
  },
  {
   "cell_type": "code",
   "execution_count": 84,
   "metadata": {
    "collapsed": false
   },
   "outputs": [],
   "source": [
    "cstr = '1010100100101010101111001000110101110101001001100111010'"
   ]
  },
  {
   "cell_type": "code",
   "execution_count": 112,
   "metadata": {
    "collapsed": true
   },
   "outputs": [],
   "source": [
    "clist = s2ilist(cstr)"
   ]
  },
  {
   "cell_type": "code",
   "execution_count": 113,
   "metadata": {
    "collapsed": false
   },
   "outputs": [
    {
     "data": {
      "text/plain": [
       "[['VEVLZDLVEZ ', [0, 0, 0, 0, 0]],\n",
       " ['WHWI AIWH Z', [0, 0, 0, 1, 1]],\n",
       " ['ZIZHVPHZIVW', [0, 1, 1, 0, 0]],\n",
       " ['YJYGUOGYJUX', [0, 1, 1, 0, 1]],\n",
       " [' L EWME LWV', [0, 1, 1, 1, 1]],\n",
       " ['EVE IS EVIL', [1, 0, 0, 0, 1]],\n",
       " ['HWHZLRZHWLI', [1, 0, 0, 1, 0]],\n",
       " ['GXGYKQYGXKJ', [1, 0, 0, 1, 1]]]"
      ]
     },
     "execution_count": 113,
     "metadata": {},
     "output_type": "execute_result"
    }
   ],
   "source": [
    "candidates(clist)"
   ]
  },
  {
   "cell_type": "markdown",
   "metadata": {},
   "source": [
    "平文は、'EVE IS EVIL'だと思われる。対応する鍵は、 $10001$ である。"
   ]
  },
  {
   "cell_type": "markdown",
   "metadata": {},
   "source": [
    "## p.70 問題1.7.1、問題1.7.2、問題1.7.3"
   ]
  },
  {
   "cell_type": "code",
   "execution_count": 116,
   "metadata": {
    "collapsed": true
   },
   "outputs": [],
   "source": [
    "def my_filter(L, num): return [i for i in L if i % num != 0]"
   ]
  },
  {
   "cell_type": "code",
   "execution_count": 117,
   "metadata": {
    "collapsed": false
   },
   "outputs": [
    {
     "data": {
      "text/plain": [
       "[1, 5, 7]"
      ]
     },
     "execution_count": 117,
     "metadata": {},
     "output_type": "execute_result"
    }
   ],
   "source": [
    "my_filter([1, 2, 4, 5, 7], 2)"
   ]
  },
  {
   "cell_type": "code",
   "execution_count": 126,
   "metadata": {
    "collapsed": false
   },
   "outputs": [],
   "source": [
    "def my_lists(L): return [list(range(1, i + 1)) for i in L]"
   ]
  },
  {
   "cell_type": "code",
   "execution_count": 127,
   "metadata": {
    "collapsed": false
   },
   "outputs": [
    {
     "data": {
      "text/plain": [
       "[[1], [1, 2], [1, 2, 3, 4]]"
      ]
     },
     "execution_count": 127,
     "metadata": {},
     "output_type": "execute_result"
    }
   ],
   "source": [
    "my_lists([1, 2, 4])"
   ]
  },
  {
   "cell_type": "code",
   "execution_count": 128,
   "metadata": {
    "collapsed": false
   },
   "outputs": [
    {
     "data": {
      "text/plain": [
       "[[]]"
      ]
     },
     "execution_count": 128,
     "metadata": {},
     "output_type": "execute_result"
    }
   ],
   "source": [
    "my_lists([0])"
   ]
  },
  {
   "cell_type": "code",
   "execution_count": 132,
   "metadata": {
    "collapsed": true
   },
   "outputs": [],
   "source": [
    "def my_function_composition(f, g): return {x:g[f[x]] for x in f.keys()}"
   ]
  },
  {
   "cell_type": "code",
   "execution_count": 133,
   "metadata": {
    "collapsed": false
   },
   "outputs": [
    {
     "data": {
      "text/plain": [
       "{0: 'apple', 1: 'banana'}"
      ]
     },
     "execution_count": 133,
     "metadata": {},
     "output_type": "execute_result"
    }
   ],
   "source": [
    "f = {0:'a', 1:'b'}\n",
    "g = {'a':'apple', 'b':'banana'}\n",
    "my_function_composition(f, g)"
   ]
  },
  {
   "cell_type": "markdown",
   "metadata": {},
   "source": [
    "## pp.71-72 問題1.7.4、問題1.7.5、問題1.7.6、問題1.7.7、問題1.7.8"
   ]
  },
  {
   "cell_type": "code",
   "execution_count": 134,
   "metadata": {
    "collapsed": true
   },
   "outputs": [],
   "source": [
    "def mySum(L):\n",
    "    current = 0\n",
    "    for x in L:\n",
    "        current = current + x\n",
    "    return current"
   ]
  },
  {
   "cell_type": "code",
   "execution_count": 135,
   "metadata": {
    "collapsed": false
   },
   "outputs": [
    {
     "data": {
      "text/plain": [
       "5050"
      ]
     },
     "execution_count": 135,
     "metadata": {},
     "output_type": "execute_result"
    }
   ],
   "source": [
    "mySum(list(range(1, 101)))"
   ]
  },
  {
   "cell_type": "code",
   "execution_count": 136,
   "metadata": {
    "collapsed": true
   },
   "outputs": [],
   "source": [
    "def myProduct(L):\n",
    "    current = 1\n",
    "    for x in L:\n",
    "        current = current * x\n",
    "    return current"
   ]
  },
  {
   "cell_type": "code",
   "execution_count": 137,
   "metadata": {
    "collapsed": false
   },
   "outputs": [
    {
     "data": {
      "text/plain": [
       "3628800"
      ]
     },
     "execution_count": 137,
     "metadata": {},
     "output_type": "execute_result"
    }
   ],
   "source": [
    "myProduct(list(range(1, 11)))"
   ]
  },
  {
   "cell_type": "code",
   "execution_count": 147,
   "metadata": {
    "collapsed": false
   },
   "outputs": [],
   "source": [
    "def myMin(L):\n",
    "    current = float(\"inf\")\n",
    "    for x in L:\n",
    "        current = x if x < current else current\n",
    "    return current"
   ]
  },
  {
   "cell_type": "code",
   "execution_count": 148,
   "metadata": {
    "collapsed": false
   },
   "outputs": [
    {
     "data": {
      "text/plain": [
       "1"
      ]
     },
     "execution_count": 148,
     "metadata": {},
     "output_type": "execute_result"
    }
   ],
   "source": [
    "myMin([3, 1, 4])"
   ]
  },
  {
   "cell_type": "code",
   "execution_count": 149,
   "metadata": {
    "collapsed": true
   },
   "outputs": [],
   "source": [
    "def myConcat(L):\n",
    "    current = ''\n",
    "    for x in L:\n",
    "        current = current + x\n",
    "    return current"
   ]
  },
  {
   "cell_type": "code",
   "execution_count": 150,
   "metadata": {
    "collapsed": false
   },
   "outputs": [
    {
     "data": {
      "text/plain": [
       "'abcdef'"
      ]
     },
     "execution_count": 150,
     "metadata": {},
     "output_type": "execute_result"
    }
   ],
   "source": [
    "myConcat(['abc', 'def'])"
   ]
  },
  {
   "cell_type": "code",
   "execution_count": 151,
   "metadata": {
    "collapsed": true
   },
   "outputs": [],
   "source": [
    "def myUnion(L):\n",
    "    current = set()\n",
    "    for x in L:\n",
    "        current = current | x\n",
    "    return current"
   ]
  },
  {
   "cell_type": "code",
   "execution_count": 152,
   "metadata": {
    "collapsed": false
   },
   "outputs": [
    {
     "data": {
      "text/plain": [
       "{1, 2, 3, 4, 5}"
      ]
     },
     "execution_count": 152,
     "metadata": {},
     "output_type": "execute_result"
    }
   ],
   "source": [
    "myUnion([{1, 2, 3}, {2, 3, 4}, {3, 4, 5}])"
   ]
  },
  {
   "cell_type": "markdown",
   "metadata": {},
   "source": [
    "## p.72 問題1.7.9"
   ]
  },
  {
   "cell_type": "markdown",
   "metadata": {},
   "source": [
    "1. $0$\n",
    "2. $1$\n",
    "3. $\\infty$\n",
    "4. 空文字列\n",
    "5. $\\emptyset$\n",
    "\n",
    "集合のリスト $L$ を入力とし、 $L$ 内の全ての集合の共通部分を出力するようなプロシージャの実現を、問題1.7.4 - 1.7.8と同様にして考えると、以下のようなプロシージャになる。入力として集合の空リストを与えた場合、出力は、全体集合（普遍集合）になる。全体集合は、場合によって異なるため、決定することができない。"
   ]
  },
  {
   "cell_type": "code",
   "execution_count": null,
   "metadata": {
    "collapsed": true
   },
   "outputs": [],
   "source": [
    "def myIntersection(L):\n",
    "    current = 'the universal set'\n",
    "    for x in L:\n",
    "        current = current & x\n",
    "    return current"
   ]
  },
  {
   "cell_type": "markdown",
   "metadata": {},
   "source": [
    "## p.72 問題1.7.10、問題1.7.11\n",
    "\n",
    "解答略"
   ]
  },
  {
   "cell_type": "markdown",
   "metadata": {},
   "source": [
    "## p.73 問題1.7.12"
   ]
  },
  {
   "cell_type": "code",
   "execution_count": 155,
   "metadata": {
    "collapsed": true
   },
   "outputs": [],
   "source": [
    "def transform(a, b, L): return [a*z + b for z in L]"
   ]
  },
  {
   "cell_type": "markdown",
   "metadata": {},
   "source": [
    "1. $a = -\\frac{i}{2}$, $b = \\frac{1}{2} - \\frac{1}{2} i$ とすればよい。\n",
    "2. $f(z) = a z + b$ と書けると仮定して矛盾を導く。 $f(0) = a \\cdot 0 + b = b$ であり $f(0) = -3-2 i$ であるから、 $b = -3-2i$ でなければならない。\n",
    "$f(1) = a \\cdot 1 + b = a_1 + a_2 i + b$ であり $f(1) = e^{\\frac{\\pi}{4} i} \\cdot 2 \\cdot 1 + b = ( \\frac{\\sqrt{2}}{2} + \\frac{\\sqrt{2}}{2} i ) \\cdot 2 + b = \\sqrt{2} + \\sqrt{2} i + b$ であるから、 $a_1 = \\sqrt{2}$, $a_2 = \\sqrt{2}$ でなければならない。\n",
    "$f(i) = a \\cdot i + b = -a_2 + a_1 i + b$ であり $f(i) = e^{\\frac{\\pi}{4} i} \\cdot 3 \\cdot i + b = ( \\frac{\\sqrt{2}}{2} + \\frac{\\sqrt{2}}{2} i ) \\cdot 3 \\cdot i + b = -\\frac{3 \\sqrt{2}}{2} + \\frac{3 \\sqrt{2}}{2} i + b $ であるから、 $a_1 = \\frac{3 \\sqrt{2}}{2}$, $a_2 = \\frac{3 \\sqrt{2}}{2}$ でなければならない。これは矛盾である。"
   ]
  },
  {
   "cell_type": "markdown",
   "metadata": {},
   "source": [
    "## p.73 問題1.7.13\n",
    "\n",
    "解答略"
   ]
  },
  {
   "cell_type": "markdown",
   "metadata": {},
   "source": [
    "## p.73 問題1.7.14\n",
    "\n",
    "ノード $c$ のユーザは、 $b_1 = 1$ と $b_1 + b_2 = 0$ を受信する。この $b_1$ と $b_2$ についての2元連立1次方程式を解くと、 $b_1 = 1$, $b_2 = 1$ であることが分かる。ノード $d$ のユーザは、 $b_2 = 1$ と $b_1 + b_2 = 0$ を受信する。この $b_1$ と $b_2$ についての2元連立1次方程式を解くと、 $b_1 = 1$, $b_2 = 1$ であることが分かる。"
   ]
  }
 ],
 "metadata": {
  "anaconda-cloud": {},
  "kernelspec": {
   "display_name": "Python [Root]",
   "language": "python",
   "name": "Python [Root]"
  },
  "language_info": {
   "codemirror_mode": {
    "name": "ipython",
    "version": 3
   },
   "file_extension": ".py",
   "mimetype": "text/x-python",
   "name": "python",
   "nbconvert_exporter": "python",
   "pygments_lexer": "ipython3",
   "version": "3.5.1"
  }
 },
 "nbformat": 4,
 "nbformat_minor": 0
}
