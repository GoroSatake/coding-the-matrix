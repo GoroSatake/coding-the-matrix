{
 "cells": [
  {
   "cell_type": "markdown",
   "metadata": {
    "collapsed": true
   },
   "source": [
    "## p.152 練習問題3.2.15\n",
    "\n",
    "解答略"
   ]
  },
  {
   "cell_type": "markdown",
   "metadata": {},
   "source": [
    "## p.152 練習問題3.2.16\n",
    "\n",
    "\\begin{align}\n",
    "a &= [1, 1, 1] \\\\\n",
    "b &=  [0.4, 1.3, -2.2] \\\\\n",
    "c &=  [1, 0, 0] \\\\\n",
    "a - c &= [0, 1, 1] \\\\\n",
    "10 b - 4 a &= [4, 13, -22] - 4 [1, 1, 1] = [0, 9, -26] \\\\\n",
    "10 b - 13 a + 9 c &= (10 b - 4 a) - 9 (a - c) = [0, 9, -26] - 9 [0, 1, 1] = [0, 0, -35] \\\\\n",
    "\\frac{13}{35} a - \\frac{2}{7} b - \\frac{9}{35} c &= - \\frac{1}{35} (10 b - 13 a + 9 c) = [0, 0, 1] \\\\\n",
    "\\frac{22}{35} a + \\frac{2}{7} b - \\frac{26}{35} c &= (a - c) - (\\frac{13}{35} a - \\frac{2}{7} b - \\frac{9}{35} c) = [0, 1, 1] - [0, 0, 1] = [0, 1, 0]\n",
    "\\end{align}"
   ]
  },
  {
   "cell_type": "markdown",
   "metadata": {},
   "source": [
    "## p.179 問題3.8.1"
   ]
  },
  {
   "cell_type": "code",
   "execution_count": 1,
   "metadata": {
    "collapsed": true
   },
   "outputs": [],
   "source": [
    "from vec import Vec\n",
    "from vecutil import zero_vec"
   ]
  },
  {
   "cell_type": "code",
   "execution_count": 14,
   "metadata": {
    "collapsed": true
   },
   "outputs": [],
   "source": [
    "def vec_select(veclist, k):\n",
    "    return [v for v in veclist if v[k] == 0]"
   ]
  },
  {
   "cell_type": "code",
   "execution_count": 24,
   "metadata": {
    "collapsed": false
   },
   "outputs": [],
   "source": [
    "#def vec_sum(veclist, D):\n",
    "#    return sum(veclist) if len(veclist) != 0 else zero_vec(D)\n",
    "\n",
    "def vec_sum(veclist, D):\n",
    "    return sum(veclist, zero_vec(D))"
   ]
  },
  {
   "cell_type": "code",
   "execution_count": 25,
   "metadata": {
    "collapsed": false
   },
   "outputs": [
    {
     "name": "stdout",
     "output_type": "stream",
     "text": [
      "\n",
      "  a  b  c\n",
      "---------\n",
      " 12 15 18\n",
      "\n",
      " a b c\n",
      "------\n",
      " 0 0 0\n"
     ]
    }
   ],
   "source": [
    "D = {'a', 'b', 'c'}\n",
    "v1 = Vec(D, {'a':1, 'b':2, 'c':3})\n",
    "v2 = Vec(D, {'a':4, 'b':5, 'c':6})\n",
    "v3 = Vec(D, {'a':7, 'b':8, 'c':9})\n",
    "\n",
    "veclist = [v1, v2, v3]\n",
    "print(vec_sum(veclist, D))\n",
    "\n",
    "veclist = []\n",
    "print(vec_sum(veclist, D))"
   ]
  },
  {
   "cell_type": "code",
   "execution_count": 12,
   "metadata": {
    "collapsed": true
   },
   "outputs": [],
   "source": [
    "def vec_select_sum(D, veclist, k):\n",
    "    return vec_sum(vec_select(veclist, k), D)"
   ]
  },
  {
   "cell_type": "code",
   "execution_count": 28,
   "metadata": {
    "collapsed": false
   },
   "outputs": [
    {
     "name": "stdout",
     "output_type": "stream",
     "text": [
      "\n",
      " a b c\n",
      "------\n",
      " 0 3 0\n"
     ]
    }
   ],
   "source": [
    "D = {'a','b','c'}\n",
    "v1 = Vec(D, {'a': 1})\n",
    "v2 = Vec(D, {'a': 0, 'b': 1})\n",
    "v3 = Vec(D, {'b': 2})\n",
    "v4 = Vec(D, {'a': 10, 'b': 10})\n",
    "\n",
    "veclist = [v1, v2, v3, v4]\n",
    "print(vec_select_sum(D, veclist, 'a'))"
   ]
  },
  {
   "cell_type": "markdown",
   "metadata": {},
   "source": [
    "## p.180 問題3.8.2"
   ]
  },
  {
   "cell_type": "code",
   "execution_count": 29,
   "metadata": {
    "collapsed": true
   },
   "outputs": [],
   "source": [
    "def scale_vecs(vecdict):\n",
    "    return [(1/k)*v for k, v in vecdict.items()]"
   ]
  },
  {
   "cell_type": "code",
   "execution_count": 31,
   "metadata": {
    "collapsed": false
   },
   "outputs": [
    {
     "name": "stdout",
     "output_type": "stream",
     "text": [
      "[Vec({1, 2, 3},{2: 3.0}), Vec({1, 2, 4},{1: 0.2, 2: 0.4, 4: 1.6})]\n"
     ]
    }
   ],
   "source": [
    "v1 = Vec({1,2,3}, {2: 9})\n",
    "v2 = Vec({1,2,4}, {1: 1, 2: 2, 4: 8})\n",
    "print(scale_vecs({3: v1, 5: v2}))"
   ]
  },
  {
   "cell_type": "markdown",
   "metadata": {},
   "source": [
    "## p.180 問題3.8.3"
   ]
  },
  {
   "cell_type": "code",
   "execution_count": 15,
   "metadata": {
    "collapsed": true
   },
   "outputs": [],
   "source": [
    "from vecutil import zero_vec"
   ]
  },
  {
   "cell_type": "code",
   "execution_count": 33,
   "metadata": {
    "collapsed": true
   },
   "outputs": [],
   "source": [
    "#その1\n",
    "\n",
    "def GF2_span(D, L):\n",
    "    span = [zero_vec(D)]\n",
    "    for vi in L:\n",
    "        span_new = span[:]\n",
    "        for v in span:\n",
    "            span_new.append(v + vi)\n",
    "        span = span_new\n",
    "    return span"
   ]
  },
  {
   "cell_type": "code",
   "execution_count": 34,
   "metadata": {
    "collapsed": true
   },
   "outputs": [],
   "source": [
    "#その2\n",
    "\n",
    "def GF2_span(D, L):\n",
    "    span = [zero_vec(D)]\n",
    "    for vi in L:\n",
    "        span += [v + vi for v in span]\n",
    "    return span"
   ]
  },
  {
   "cell_type": "code",
   "execution_count": 36,
   "metadata": {
    "collapsed": true
   },
   "outputs": [],
   "source": [
    "#その3\n",
    "\n",
    "def GF2_span(D, L):\n",
    "    if L == []:\n",
    "        return [zero_vec(D)]\n",
    "    else:\n",
    "        span = GF2_span(D, L[:-1])\n",
    "        span += [v + L[-1] for v in span]\n",
    "        return span"
   ]
  },
  {
   "cell_type": "code",
   "execution_count": 37,
   "metadata": {
    "collapsed": false
   },
   "outputs": [
    {
     "name": "stdout",
     "output_type": "stream",
     "text": [
      "\n",
      " a b c\n",
      "------\n",
      " 0 0 0\n",
      "\n",
      "   a b   c\n",
      "----------\n",
      " one 0 one\n",
      "\n",
      " a   b c\n",
      "--------\n",
      " 0 one 0\n",
      "\n",
      "   a   b   c\n",
      "------------\n",
      " one one one\n"
     ]
    }
   ],
   "source": [
    "from GF2 import one\n",
    "from vec import Vec\n",
    "D = {'a', 'b', 'c'}\n",
    "L = [Vec(D, {'a': one, 'c': one}), Vec(D, {'b': one})]\n",
    "vlist = GF2_span(D, L)\n",
    "for v in vlist: print(v)"
   ]
  },
  {
   "cell_type": "markdown",
   "metadata": {},
   "source": [
    "## p.180 問題3.8.4\n",
    "\n",
    "$v_1 = [1, 0, a]$, $v_2 = [0, 1, b]$"
   ]
  },
  {
   "cell_type": "markdown",
   "metadata": {},
   "source": [
    "## p.181 問題3.8.5\n",
    "\n",
    "$v_0 = [0, 0, c]$, $v_1 = [1, 0, a]$, $v_2 = [0, 1, b]$"
   ]
  },
  {
   "cell_type": "markdown",
   "metadata": {},
   "source": [
    "## p.181 問題3.8.6\n",
    "\n",
    "1. $\\{\\alpha [1, 3] \\mid \\alpha \\in [0, 1] \\}$\n",
    "2. $\\{\\alpha [2, 2, 0] + \\beta [2, 2, 2] \\mid \\alpha, \\beta \\in \\mathbb{R} \\}$"
   ]
  },
  {
   "cell_type": "markdown",
   "metadata": {},
   "source": [
    "## p.181 問題3.8.7、問題3.8.8、問題3.8.9\n",
    "\n",
    "解答略"
   ]
  },
  {
   "cell_type": "markdown",
   "metadata": {},
   "source": [
    "## p.182 問題3.8.10\n",
    "\n",
    "1. ベクトル空間である。\n",
    "2. ベクトル空間ではない。"
   ]
  }
 ],
 "metadata": {
  "kernelspec": {
   "display_name": "Python [Root]",
   "language": "python",
   "name": "Python [Root]"
  },
  "language_info": {
   "codemirror_mode": {
    "name": "ipython",
    "version": 3
   },
   "file_extension": ".py",
   "mimetype": "text/x-python",
   "name": "python",
   "nbconvert_exporter": "python",
   "pygments_lexer": "ipython3",
   "version": "3.5.1"
  }
 },
 "nbformat": 4,
 "nbformat_minor": 0
}
