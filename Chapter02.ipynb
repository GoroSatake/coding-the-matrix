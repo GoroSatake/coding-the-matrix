{
 "cells": [
  {
   "cell_type": "markdown",
   "metadata": {},
   "source": [
    "## p.82 課題2.3.2"
   ]
  },
  {
   "cell_type": "code",
   "execution_count": 2,
   "metadata": {
    "collapsed": true
   },
   "outputs": [],
   "source": [
    "from plotting import plot"
   ]
  },
  {
   "cell_type": "code",
   "execution_count": 3,
   "metadata": {
    "collapsed": true
   },
   "outputs": [],
   "source": [
    "L = [[2, 2], [3, 2], [1.75, 1], [2, 1], [2.25, 1], [2.5, 1], [2.75, 1], [3, 1], [3.25, 1]]"
   ]
  },
  {
   "cell_type": "code",
   "execution_count": 4,
   "metadata": {
    "collapsed": true
   },
   "outputs": [],
   "source": [
    "plot(L, 4)"
   ]
  },
  {
   "cell_type": "markdown",
   "metadata": {},
   "source": [
    "[結果](task_02_03_02.html)"
   ]
  },
  {
   "cell_type": "markdown",
   "metadata": {},
   "source": [
    "## p.83 課題2.4.3"
   ]
  },
  {
   "cell_type": "code",
   "execution_count": 5,
   "metadata": {
    "collapsed": true
   },
   "outputs": [],
   "source": [
    "def add2(v, w): return [v[0] + w[0], v[1] + w[1]]"
   ]
  },
  {
   "cell_type": "code",
   "execution_count": 6,
   "metadata": {
    "collapsed": true
   },
   "outputs": [],
   "source": [
    "plot([add2(v, [1, 2]) for v in L], 4.5)"
   ]
  },
  {
   "cell_type": "markdown",
   "metadata": {},
   "source": [
    "[結果](task_02_04_03.html)"
   ]
  },
  {
   "cell_type": "markdown",
   "metadata": {},
   "source": [
    "## p.85 練習問題2.4.6\n",
    "\n",
    "解答略"
   ]
  },
  {
   "cell_type": "markdown",
   "metadata": {},
   "source": [
    "## p.86 練習問題2.4.7\n",
    "\n",
    "解答略"
   ]
  },
  {
   "cell_type": "markdown",
   "metadata": {},
   "source": [
    "## p.87 課題2.5.4"
   ]
  },
  {
   "cell_type": "code",
   "execution_count": 7,
   "metadata": {
    "collapsed": true
   },
   "outputs": [],
   "source": [
    "def scalar_vector_mult(alpha, v): return [alpha*vi for vi in v]"
   ]
  },
  {
   "cell_type": "code",
   "execution_count": 8,
   "metadata": {
    "collapsed": true
   },
   "outputs": [],
   "source": [
    "plot([scalar_vector_mult(0.5, v) for v in L], 2, 2)"
   ]
  },
  {
   "cell_type": "markdown",
   "metadata": {},
   "source": [
    "[結果](task_02_05_04_01.html)"
   ]
  },
  {
   "cell_type": "code",
   "execution_count": 9,
   "metadata": {
    "collapsed": true
   },
   "outputs": [],
   "source": [
    "L2 = [scalar_vector_mult(0.5, v) for v in L]\n",
    "plot([scalar_vector_mult(-0.5, v) for v in L2], 2, 2)"
   ]
  },
  {
   "cell_type": "markdown",
   "metadata": {},
   "source": [
    "[結果](task_02_05_04_02.html)"
   ]
  },
  {
   "cell_type": "markdown",
   "metadata": {},
   "source": [
    "## p.93 練習問題2.6.1、練習問題2.6.2\n",
    "\n",
    "解答略"
   ]
  },
  {
   "cell_type": "markdown",
   "metadata": {},
   "source": [
    "## p.94 問題2.6.6\n",
    "\n",
    "解答略"
   ]
  },
  {
   "cell_type": "markdown",
   "metadata": {},
   "source": [
    "## p.95 課題2.6.9"
   ]
  },
  {
   "cell_type": "code",
   "execution_count": 12,
   "metadata": {
    "collapsed": false
   },
   "outputs": [],
   "source": [
    "def segment(pt1, pt2): return [add2(pt1, scalar_vector_mult(i/100, add2(pt2, scalar_vector_mult(-1, pt1)))) for i in range(101)]"
   ]
  },
  {
   "cell_type": "code",
   "execution_count": 14,
   "metadata": {
    "collapsed": true
   },
   "outputs": [],
   "source": [
    "pt1 = [3.5, 3]\n",
    "pt2 = [0.5, 1]\n",
    "plot(segment(pt1, pt2), 4, 1)"
   ]
  },
  {
   "cell_type": "markdown",
   "metadata": {},
   "source": [
    "[結果](task_02_06_09.html)"
   ]
  },
  {
   "cell_type": "markdown",
   "metadata": {},
   "source": [
    "## p.103 問題2.8.3\n",
    "\n",
    "$\\mathrm{GF}(2)$ 上の $n$ 要素のベクトル $v_A$, $v_B$ をそれぞれ無作為に選ぶ。 $v_C := v - v_A - v_B$ とする。 $v_A$, $v_B$, $v_C$ を3人のTAに配ればよい。"
   ]
  },
  {
   "cell_type": "markdown",
   "metadata": {},
   "source": [
    "## p.122 問題2.9.23、問題2.9.24\n",
    "\n",
    "解答略"
   ]
  },
  {
   "cell_type": "markdown",
   "metadata": {},
   "source": [
    "## p.124 問題2.9.29\n",
    "\n",
    "$011101 = 101010 + 111011 + 001100$ であるから、このチャレンジベクトルに対する正しいレスポンスは、 $0 + 1 + 1 = 0$ である。 $000100 = 110011 + 111011 + 001100$ であるから、このチャレンジベクトルに対する正しいレスポンスは、 $0 + 1 + 1 = 0$ である。"
   ]
  },
  {
   "cell_type": "markdown",
   "metadata": {},
   "source": [
    "## p.129 練習問題2.11.3\n",
    "\n",
    "解答略"
   ]
  },
  {
   "cell_type": "markdown",
   "metadata": {},
   "source": [
    "## p.130 練習問題2.11.4\n",
    "\n",
    "正式には、Vecクラスの完成は、p.138 問題2.14.10でなされるが、このあたりでVecクラスを完成させておいたほうがよいと思う。以後、Vecクラスを利用して問題を解くことがあるので、まず問題2.14.10からやることをすすめる。"
   ]
  },
  {
   "cell_type": "code",
   "execution_count": 34,
   "metadata": {
    "collapsed": true
   },
   "outputs": [],
   "source": [
    "from vec import Vec"
   ]
  },
  {
   "cell_type": "code",
   "execution_count": null,
   "metadata": {
    "collapsed": true
   },
   "outputs": [],
   "source": [
    "# %load vecutil.py\n",
    "from vec import Vec\n",
    "\n",
    "def list2vec(L):\n",
    "    return Vec(set(range(len(L))), {i:L[i] for i in range(len(L)) if L[i] != 0})\n",
    "##    return Vec(set(range(len(L))), {i:L[i] for i in range(len(L))})\n",
    "##L = [0, 1, 4, 9, 16]\n",
    "##print(list2vec(L))\n",
    "\n",
    "def zero_vec(D):\n",
    "    return Vec(D, {})\n"
   ]
  },
  {
   "cell_type": "code",
   "execution_count": 35,
   "metadata": {
    "collapsed": true
   },
   "outputs": [],
   "source": [
    "from vecutil import list2vec,zero_vec"
   ]
  },
  {
   "cell_type": "code",
   "execution_count": 36,
   "metadata": {
    "collapsed": true
   },
   "outputs": [],
   "source": [
    "def triangular_solve_n(rowlist, b):\n",
    "    D = rowlist[0].D\n",
    "    n = len(D)\n",
    "    assert D == rowlist[0].D\n",
    "    x = zero_vec(D)\n",
    "    for i in reversed(range(n)):\n",
    "        x[i] = (b[i] - rowlist[i]*x)/rowlist[i][i]\n",
    "    return x"
   ]
  },
  {
   "cell_type": "code",
   "execution_count": 39,
   "metadata": {
    "collapsed": false
   },
   "outputs": [
    {
     "name": "stdout",
     "output_type": "stream",
     "text": [
      "\n",
      "    0  1 2\n",
      "----------\n",
      " 15.5 -3 3\n"
     ]
    }
   ],
   "source": [
    "b = [10, 3, 15]\n",
    "rowlist = [list2vec(L) for L in [[2, 3, -4], [0, 1, 2], [0, 0, 5]]]\n",
    "x = triangular_solve_n(rowlist, b)\n",
    "print(x)"
   ]
  },
  {
   "cell_type": "markdown",
   "metadata": {},
   "source": [
    "## p.133 課題2.12.1"
   ]
  },
  {
   "cell_type": "code",
   "execution_count": 40,
   "metadata": {
    "collapsed": true
   },
   "outputs": [],
   "source": [
    "from vecutil import list2vec, zero_vec"
   ]
  },
  {
   "cell_type": "code",
   "execution_count": 41,
   "metadata": {
    "collapsed": true
   },
   "outputs": [],
   "source": [
    "f = open('voting_record_dump109.txt')\n",
    "strlist = list(f)"
   ]
  },
  {
   "cell_type": "code",
   "execution_count": 45,
   "metadata": {
    "collapsed": true
   },
   "outputs": [],
   "source": [
    "def create_voting_dict(strlist):\n",
    "    listlist = [string.split() for string in strlist]\n",
    "    return {l[0]:[int(e) for e in l[3:]] for l in listlist}"
   ]
  },
  {
   "cell_type": "code",
   "execution_count": 46,
   "metadata": {
    "collapsed": false
   },
   "outputs": [
    {
     "name": "stdout",
     "output_type": "stream",
     "text": [
      "[1, -1, 1, 1, 1, -1, -1, -1, 1, 1, 1, 1, 1, 1, -1, 1, 1, 1, 1, 1, 1, 1, 1, 1, -1, 1, -1, -1, 1, 1, 1, 1, 1, 1, 1, 1, 1, -1, 1, 1, 1, 1, -1, 1, 1, -1]\n"
     ]
    }
   ],
   "source": [
    "voting_dict = create_voting_dict(strlist)\n",
    "print(voting_dict['Obama'])"
   ]
  },
  {
   "cell_type": "markdown",
   "metadata": {},
   "source": [
    "## p.133 課題2.12.2"
   ]
  },
  {
   "cell_type": "code",
   "execution_count": 47,
   "metadata": {
    "collapsed": true
   },
   "outputs": [],
   "source": [
    "def policy_compare(sen_a, sen_b, voting_dict):\n",
    "    return list2vec(voting_dict[sen_a]) * list2vec(voting_dict[sen_b])"
   ]
  },
  {
   "cell_type": "code",
   "execution_count": 48,
   "metadata": {
    "collapsed": false
   },
   "outputs": [
    {
     "name": "stdout",
     "output_type": "stream",
     "text": [
      "34\n"
     ]
    }
   ],
   "source": [
    "print(policy_compare('Obama', 'Clinton', voting_dict))"
   ]
  },
  {
   "cell_type": "markdown",
   "metadata": {},
   "source": [
    "## p.134 課題2.12.3"
   ]
  },
  {
   "cell_type": "code",
   "execution_count": 49,
   "metadata": {
    "collapsed": true
   },
   "outputs": [],
   "source": [
    "def most_similar(sen, voting_dict):\n",
    "    max_sim = float('-inf')\n",
    "    for other_sen in voting_dict.keys():\n",
    "        if other_sen != sen:\n",
    "            sim = policy_compare(sen, other_sen, voting_dict)\n",
    "            if sim > max_sim:\n",
    "                max_sim = sim\n",
    "                sen_max_sim = other_sen\n",
    "    return sen_max_sim"
   ]
  },
  {
   "cell_type": "code",
   "execution_count": 50,
   "metadata": {
    "collapsed": false
   },
   "outputs": [
    {
     "name": "stdout",
     "output_type": "stream",
     "text": [
      "Kerry\n"
     ]
    }
   ],
   "source": [
    "print(most_similar('Obama', voting_dict))"
   ]
  },
  {
   "cell_type": "markdown",
   "metadata": {},
   "source": [
    "## p.134 課題2.12.4"
   ]
  },
  {
   "cell_type": "code",
   "execution_count": 51,
   "metadata": {
    "collapsed": true
   },
   "outputs": [],
   "source": [
    "def least_similar(sen, voting_dict):\n",
    "    min_sim = float('inf')\n",
    "    for other_sen in voting_dict.keys():\n",
    "        if other_sen != sen:\n",
    "            sim = policy_compare(sen, other_sen, voting_dict)\n",
    "            if sim < min_sim:\n",
    "                min_sim = sim\n",
    "                sen_min_sim = other_sen\n",
    "    return sen_min_sim"
   ]
  },
  {
   "cell_type": "code",
   "execution_count": 52,
   "metadata": {
    "collapsed": false
   },
   "outputs": [
    {
     "name": "stdout",
     "output_type": "stream",
     "text": [
      "Sununu\n"
     ]
    }
   ],
   "source": [
    "print(least_similar('Obama', voting_dict))"
   ]
  },
  {
   "cell_type": "markdown",
   "metadata": {},
   "source": [
    "## p.134 課題2.12.5"
   ]
  },
  {
   "cell_type": "code",
   "execution_count": 53,
   "metadata": {
    "collapsed": false
   },
   "outputs": [
    {
     "name": "stdout",
     "output_type": "stream",
     "text": [
      "Jeffords\n",
      "Feingold\n"
     ]
    }
   ],
   "source": [
    "print(most_similar('Chafee', voting_dict))\n",
    "print(least_similar('Santorum', voting_dict))"
   ]
  },
  {
   "cell_type": "markdown",
   "metadata": {},
   "source": [
    "## p.134 課題2.12.6"
   ]
  },
  {
   "cell_type": "code",
   "execution_count": 54,
   "metadata": {
    "collapsed": false
   },
   "outputs": [
    {
     "name": "stdout",
     "output_type": "stream",
     "text": [
      "34\n"
     ]
    }
   ],
   "source": [
    "print(policy_compare('Obama', 'Clinton', voting_dict))"
   ]
  },
  {
   "cell_type": "markdown",
   "metadata": {},
   "source": [
    "## p.134 課題2.12.7"
   ]
  },
  {
   "cell_type": "code",
   "execution_count": 55,
   "metadata": {
    "collapsed": true
   },
   "outputs": [],
   "source": [
    "def find_average_similarity(sen, sen_set, voting_dict):\n",
    "    sum = 0.0\n",
    "    for other_sen in sen_set:\n",
    "        sum += policy_compare(sen, other_sen, voting_dict)\n",
    "    return sum/len(sen_set)"
   ]
  },
  {
   "cell_type": "code",
   "execution_count": 61,
   "metadata": {
    "collapsed": false
   },
   "outputs": [
    {
     "name": "stdout",
     "output_type": "stream",
     "text": [
      "max_sim = 34.86046511627907 sen_max_sim = Biden\n"
     ]
    }
   ],
   "source": [
    "def create_democrats_set(strlist):\n",
    "    listlist = [string.split() for string in strlist]\n",
    "    return {l[0] for l in listlist if l[1] == 'D'}\n",
    "\n",
    "democrats_set = create_democrats_set(strlist)\n",
    "max_sim = float('-inf')\n",
    "for sen in voting_dict.keys():\n",
    "    sim_with_democrats = find_average_similarity(sen, democrats_set, voting_dict)\n",
    "    if sim_with_democrats > max_sim:\n",
    "        max_sim = sim_with_democrats\n",
    "        sen_max_sim = sen\n",
    "print('max_sim =', max_sim, 'sen_max_sim =', sen_max_sim)"
   ]
  },
  {
   "cell_type": "markdown",
   "metadata": {},
   "source": [
    "## p.134 課題2.12.8"
   ]
  },
  {
   "cell_type": "code",
   "execution_count": 66,
   "metadata": {
    "collapsed": true
   },
   "outputs": [],
   "source": [
    "def find_average_record(sen_set, voting_dict):\n",
    "    for sen in sen_set:\n",
    "        sum_vec = zero_vec(set(range(len(voting_dict[sen]))))\n",
    "        break\n",
    "    for sen in sen_set:\n",
    "        sum_vec = sum_vec + list2vec(voting_dict[sen])\n",
    "    return sum_vec / len(sen_set)"
   ]
  },
  {
   "cell_type": "code",
   "execution_count": 67,
   "metadata": {
    "collapsed": false
   },
   "outputs": [
    {
     "name": "stdout",
     "output_type": "stream",
     "text": [
      "max_sim = 34.860465116279066 sen_max_sim = Biden\n"
     ]
    }
   ],
   "source": [
    "democrats_set = create_democrats_set(strlist)\n",
    "average_Democrat_record = find_average_record(democrats_set, voting_dict)\n",
    "max_sim = float('-inf')\n",
    "for sen in voting_dict.keys():\n",
    "    sim_with_ave_democrats = list2vec(voting_dict[sen]) * average_Democrat_record\n",
    "    if sim_with_ave_democrats > max_sim:\n",
    "        max_sim = sim_with_ave_democrats\n",
    "        sen_max_sim = sen\n",
    "print('max_sim =', max_sim, 'sen_max_sim =', sen_max_sim)"
   ]
  },
  {
   "cell_type": "markdown",
   "metadata": {},
   "source": [
    "$i$ 番目の民主党員の投票記録を表わすベクトルを $\\mathbf{d_i}$ とし、ある上院議員の投票記録を表わすベクトルを $\\mathbf{x}$ とする。 $\\frac{\\mathbf{x} \\cdot \\mathbf{d_1} + \\cdots + \\mathbf{x} \\cdot \\mathbf{d_n}}{n} = \\mathbf{x} \\cdot \\frac{1}{n} (\\mathbf{d_1} + \\cdots + \\mathbf{d_n})$ であるから、課題2.12.7と課題2.12.8の結果は一致する。"
   ]
  },
  {
   "cell_type": "markdown",
   "metadata": {},
   "source": [
    "## p.135 課題2.12.9"
   ]
  },
  {
   "cell_type": "code",
   "execution_count": 73,
   "metadata": {
    "collapsed": true
   },
   "outputs": [],
   "source": [
    "def bitter_rivals(voting_dict):\n",
    "    min_sim = float('inf')\n",
    "    name_list = list(voting_dict.keys())\n",
    "    num_of_names = len(name_list)\n",
    "    for i in range(num_of_names-1):\n",
    "        for j in range(i + 1, num_of_names):\n",
    "            sim = policy_compare(name_list[i], name_list[j], voting_dict)\n",
    "            if sim < min_sim:\n",
    "                min_sim = sim\n",
    "                t = [i, j]\n",
    "    return [[name_list[t[0]], name_list[t[1]]], min_sim]"
   ]
  },
  {
   "cell_type": "code",
   "execution_count": 74,
   "metadata": {
    "collapsed": false
   },
   "outputs": [
    {
     "name": "stdout",
     "output_type": "stream",
     "text": [
      "[['Feingold', 'Inhofe'], -3]\n"
     ]
    }
   ],
   "source": [
    "print(bitter_rivals(voting_dict))"
   ]
  },
  {
   "cell_type": "markdown",
   "metadata": {},
   "source": [
    "## pp.136-138 問題2.14.1 - 問題2.14.9\n",
    "\n",
    "解答略"
   ]
  },
  {
   "cell_type": "markdown",
   "metadata": {},
   "source": [
    "## p.138 問題2.14.10"
   ]
  },
  {
   "cell_type": "code",
   "execution_count": 10,
   "metadata": {
    "collapsed": true
   },
   "outputs": [],
   "source": [
    "# %load vec.py\n",
    "# Copyright 2013 Philip N. Klein\n",
    "\n",
    "def getitem(v, d):\n",
    "    \"\"\"\n",
    "    Return the value of entry d in v.\n",
    "    Be sure getitem(v, d) returns 0 if d is not represented in v.f.\n",
    "\n",
    "    >>> v = Vec({'a', 'b', 'c', 'd'}, {'a':2, 'c':1, 'd':3})\n",
    "    >>> v['d']\n",
    "    3\n",
    "    >>> v['b']\n",
    "    0\n",
    "    \"\"\"\n",
    "\n",
    "    assert d in v.D\n",
    "\n",
    "    return v.f[d] if d in v.f else 0\n",
    "\n",
    "def setitem(v, d, val):\n",
    "    \"\"\"\n",
    "    Set the element of v with label d to be val.\n",
    "    setitem(v,d,val) should set the value for key d even if d\n",
    "    is not previously represented in v.f.\n",
    "\n",
    "    >>> v = Vec({'a', 'b', 'c'}, {'b':0})\n",
    "    >>> v['b'] = 5\n",
    "    >>> v['b']\n",
    "    5\n",
    "    >>> v['a'] = 1\n",
    "    >>> v['a']\n",
    "    1\n",
    "    \"\"\"\n",
    "\n",
    "    assert d in v.D\n",
    "\n",
    "    if val != 0:\n",
    "        v.f[d] = val\n",
    "    else:\n",
    "        if d in v.f.keys():\n",
    "            del v.f[d]\n",
    "\n",
    "def equal(u, v):\n",
    "    \"\"\"\n",
    "    Return true iff u is equal to v.\n",
    "    Because of sparse representation, it is not enough to compare dictionaries\n",
    "\n",
    "    >>> Vec({'a', 'b', 'c'}, {'a':0}) == Vec({'a', 'b', 'c'}, {'b':0})\n",
    "    True\n",
    "\n",
    "    Be sure that equal(u, v) check equalities for all keys from u.f and v.f even if\n",
    "    some keys in u.f do not exist in v.f (or vice versa)\n",
    "\n",
    "    >>> Vec({'x', 'y', 'z'}, {'y':1, 'x':2}) == Vec({'x', 'y', 'z'}, {'y':1, 'z':0})\n",
    "    False\n",
    "    >>> Vec({'a', 'b', 'c'}, {'a':0, 'c':1}) == Vec({'a', 'b', 'c'}, {'a':0, 'c':1, 'b':4})\n",
    "    False\n",
    "    >>> Vec({'a', 'b', 'c'}, {'a':0, 'c':1, 'b':4}) == Vec({'a', 'b', 'c'}, {'a':0, 'c':1})\n",
    "    False\n",
    "\n",
    "    The keys matter:\n",
    "    >>> Vec({'a', 'b'}, {'a':1}) == Vec({'a', 'b'}, {'b':1})\n",
    "    False\n",
    "\n",
    "    The values matter:\n",
    "    >>> Vec({'a', 'b'}, {'a':1}) == Vec({'a', 'b'}, {'a':2})\n",
    "    False\n",
    "\n",
    "    \"\"\"\n",
    "    assert u.D == v.D\n",
    "\n",
    "    u_f = u.f\n",
    "    v_f = v.f\n",
    "    u_f_keys = u_f.keys()\n",
    "    v_f_keys = v_f.keys()\n",
    "    for k in u_f_keys & v_f_keys:\n",
    "        if u_f[k] != v_f[k]:\n",
    "            return False\n",
    "    for k in u_f_keys - v_f_keys:\n",
    "        if u_f[k] != 0:\n",
    "            return False\n",
    "    for k in v_f_keys - u_f_keys:\n",
    "        if v_f[k] != 0:\n",
    "            return False\n",
    "    return True\n",
    "\n",
    "def add(u, v):\n",
    "    \"\"\"\n",
    "    Returns the sum of the two vectors.\n",
    "    Make sure to add together values for all keys from u.f and v.f even if some keys in u.f do not\n",
    "    exist in v.f (or vice versa)\n",
    "\n",
    "    >>> a = Vec({'a', 'e', 'i', 'o', 'u'}, {'a':0, 'e':1, 'i':2})\n",
    "    >>> b = Vec({'a', 'e', 'i', 'o', 'u'}, {'o':4, 'u':7})\n",
    "    >>> c = Vec({'a', 'e', 'i', 'o', 'u'}, {'a':0, 'e':1, 'i':2, 'o':4, 'u':7})\n",
    "    >>> a + b == c\n",
    "    True\n",
    "    >>> a == Vec({'a', 'e', 'i', 'o', 'u'}, {'a':0, 'e':1, 'i':2})\n",
    "    True\n",
    "    >>> b == Vec({'a', 'e', 'i', 'o', 'u'}, {'o':4, 'u':7})\n",
    "    True\n",
    "    >>> d = Vec({'x', 'y', 'z'}, {'x':2, 'y':1})\n",
    "    >>> e = Vec({'x', 'y', 'z'}, {'z':4, 'y':-1})\n",
    "    >>> f = Vec({'x', 'y', 'z'}, {'x':2, 'y':0, 'z':4})\n",
    "    >>> d + e == f\n",
    "    True\n",
    "    >>> b + Vec({'a', 'e', 'i', 'o', 'u'}, {}) == b\n",
    "    True\n",
    "    \"\"\"\n",
    "\n",
    "    assert u.D == v.D\n",
    "\n",
    "    u_f = u.f\n",
    "    v_f = v.f\n",
    "    u_f_keys = u_f.keys()\n",
    "    v_f_keys = v_f.keys()\n",
    "    result_vec = Vec(u.D, {})\n",
    "    result_vec_f = result_vec.f\n",
    "    for k in u_f_keys - v_f_keys:\n",
    "        result_vec_f[k] = u_f[k]\n",
    "    for k in v_f_keys - u_f_keys:\n",
    "        result_vec_f[k] = v_f[k]\n",
    "    for k in u_f_keys & v_f_keys:\n",
    "        result_vec_f[k] = u_f[k] + v_f[k]\n",
    "    return result_vec\n",
    "\n",
    "def dot(u, v):\n",
    "    \"\"\"\n",
    "    Returns the dot product of the two vectors.\n",
    "\n",
    "    >>> u1 = Vec({'a', 'b'}, {'a':1, 'b':2})\n",
    "    >>> u2 = Vec({'a', 'b'}, {'b':2, 'a':1})\n",
    "    >>> u1*u2\n",
    "    5\n",
    "    >>> u1 == Vec({'a', 'b'}, {'a':1, 'b':2})\n",
    "    True\n",
    "    >>> u2 == Vec({'a', 'b'}, {'b':2, 'a':1})\n",
    "    True\n",
    "    >>> v1 = Vec({'p', 'q', 'r', 's'}, {'p':2, 's':3, 'q':-1, 'r':0})\n",
    "    >>> v2 = Vec({'p', 'q', 'r', 's'}, {'p':-2, 'r':5})\n",
    "    >>> v1*v2\n",
    "    -4\n",
    "    >>> w1 = Vec({'a', 'b', 'c'}, {'a':2, 'b':3, 'c':4})\n",
    "    >>> w2 = Vec({'a', 'b', 'c'}, {'a':12, 'b':8, 'c':6})\n",
    "    >>> w1*w2\n",
    "    72\n",
    "\n",
    "    The pairwise products should not be collected in a set before summing\n",
    "    because a set eliminates duplicates\n",
    "    >>> v1 = Vec({1, 2}, {1:3, 2:6})\n",
    "    >>> v2 = Vec({1, 2}, {1:2, 2:1})\n",
    "    >>> v1*v2\n",
    "    12\n",
    "    \"\"\"\n",
    "\n",
    "    assert u.D == v.D\n",
    "\n",
    "    u_f = u.f\n",
    "    v_f = v.f\n",
    "    sum = 0\n",
    "    for k in u_f.keys() & v_f.keys():\n",
    "        sum += u_f[k]*v_f[k]\n",
    "    return sum\n",
    "\n",
    "def scalar_mul(v, alpha):\n",
    "    \"\"\"\n",
    "    Returns the scalar-vector product alpha times v.\n",
    "\n",
    "    >>> zero = Vec({'x', 'y', 'z', 'w'}, {})\n",
    "    >>> u = Vec({'x', 'y', 'z', 'w'}, {'x':1, 'y':2, 'z':3, 'w':4})\n",
    "    >>> 0*u == zero\n",
    "    True\n",
    "    >>> 1*u == u\n",
    "    True\n",
    "    >>> 0.5*u == Vec({'x', 'y', 'z', 'w'}, {'x':0.5, 'y':1, 'z':1.5, 'w':2})\n",
    "    True\n",
    "    >>> u == Vec({'x', 'y', 'z', 'w'}, {'x':1, 'y':2, 'z':3, 'w':4})\n",
    "    True\n",
    "    \"\"\"\n",
    "    result_vec = Vec(v.D, {})\n",
    "    if alpha == 0:\n",
    "        return result_vec\n",
    "    v_f = v.f\n",
    "    result_vec_f = result_vec.f\n",
    "    for k in v_f:\n",
    "        result_vec_f[k] = alpha*v_f[k]\n",
    "    return result_vec\n",
    "    \n",
    "def neg(v):\n",
    "    \"\"\"\n",
    "    Returns the negation of a vector.\n",
    "\n",
    "    >>> u = Vec({2, 4, 6, 8}, {2:1, 4:2, 6:3, 8:4})\n",
    "    >>> neg(u)\n",
    "    Vec({8, 2, 4, 6},{8: -4, 2: -1, 4: -2, 6: -3})\n",
    "    >>> u == Vec({2, 4, 6, 8}, {2:1, 4:2, 6:3, 8:4})\n",
    "    True\n",
    "    \"\"\"\n",
    "    result_vec = Vec(v.D, {})\n",
    "    v_f = v.f\n",
    "    result_vec_f = result_vec.f\n",
    "    for k in v_f:\n",
    "        result_vec_f[k] = -v_f[k]\n",
    "    return result_vec\n",
    "\n",
    "###############################################################################################################################\n",
    "\n",
    "class Vec:\n",
    "    \"\"\"\n",
    "    A vector has two fields:\n",
    "    D - the domain (a set)\n",
    "    f - a dictionary mapping (some) domain elements to field elements\n",
    "        elements of D not appearing in f are implicitly mapped to zero\n",
    "    \"\"\"\n",
    "    def __init__(self, labels = set(), function = {}):\n",
    "        self.D = labels\n",
    "        self.f = function\n",
    "\n",
    "    __getitem__ = getitem\n",
    "    __setitem__ = setitem\n",
    "    __neg__ = neg\n",
    "    __rmul__ = scalar_mul #if left arg of * is primitive, assume it's a scalar\n",
    "\n",
    "    def __mul__(self,other):\n",
    "        #If other is a vector, returns the dot product of self and other\n",
    "        if isinstance(other, Vec):\n",
    "            return dot(self,other)\n",
    "        else:\n",
    "            return NotImplemented  #  Will cause other.__rmul__(self) to be invoked\n",
    "\n",
    "    def __truediv__(self,other):  # Scalar division\n",
    "        return (1/other)*self\n",
    "\n",
    "    __add__ = add\n",
    "\n",
    "    def __radd__(self, other):\n",
    "        \"Hack to allow sum(...) to work with vectors\"\n",
    "        if other == 0:\n",
    "            return self\n",
    "\n",
    "    def __sub__(a,b):\n",
    "        \"Returns a vector which is the difference of a and b.\"\n",
    "        return a+(-b)\n",
    "\n",
    "    __eq__ = equal\n",
    "\n",
    "    def is_almost_zero(self):\n",
    "        s = 0\n",
    "        for x in self.f.values():\n",
    "            if isinstance(x, int) or isinstance(x, float):\n",
    "                s += x*x\n",
    "            elif isinstance(x, complex):\n",
    "                s += x*x.conjugate()\n",
    "            else: return False\n",
    "        return s < 1e-20\n",
    "\n",
    "    def __str__(v):\n",
    "        \"pretty-printing\"\n",
    "        #replaced on 2015/02/12 by Goro Satake\n",
    "        #D_list = sorted(v.D, key=hash)\n",
    "        D_list = sorted(v.D, key=repr)\n",
    "        numdec = 3\n",
    "        wd = dict([(k,(1+max(len(str(k)), len('{0:.{1}G}'.format(v[k], numdec))))) if isinstance(v[k], int) or isinstance(v[k], float) else (k,(1+max(len(str(k)), len(str(v[k]))))) for k in D_list])\n",
    "        s1 = ''.join(['{0:>{1}}'.format(str(k),wd[k]) for k in D_list])\n",
    "        s2 = ''.join(['{0:>{1}.{2}G}'.format(v[k],wd[k],numdec) if isinstance(v[k], int) or isinstance(v[k], float) else '{0:>{1}}'.format(v[k], wd[k]) for k in D_list])\n",
    "        return \"\\n\" + s1 + \"\\n\" + '-'*sum(wd.values()) +\"\\n\" + s2\n",
    "\n",
    "    def __hash__(self):\n",
    "        \"Here we pretend Vecs are immutable so we can form sets of them\"\n",
    "        h = hash(frozenset(self.D))\n",
    "        #replaced on 2015/02/12 by Goro Satake\n",
    "        #for k,v in sorted(self.f.items(), key = lambda x:x[0]):\n",
    "        for k,v in sorted(self.f.items(), key = lambda x:repr(x[0])):\n",
    "            if v != 0:\n",
    "                h = hash((h, hash(v)))\n",
    "        return h\n",
    "\n",
    "    def __repr__(self):\n",
    "        return \"Vec(\" + str(self.D) + \",\" + str(self.f) + \")\"\n",
    "\n",
    "    def copy(self):\n",
    "        \"Don't make a new copy of the domain D\"\n",
    "        return Vec(self.D, self.f.copy())\n"
   ]
  },
  {
   "cell_type": "code",
   "execution_count": 8,
   "metadata": {
    "collapsed": false
   },
   "outputs": [
    {
     "data": {
      "text/plain": [
       "TestResults(failed=0, attempted=48)"
      ]
     },
     "execution_count": 8,
     "metadata": {},
     "output_type": "execute_result"
    }
   ],
   "source": [
    "import doctest\n",
    "import vec\n",
    "import importlib\n",
    "importlib.reload(vec)\n",
    "doctest.testmod(vec)"
   ]
  }
 ],
 "metadata": {
  "anaconda-cloud": {},
  "kernelspec": {
   "display_name": "Python [Root]",
   "language": "python",
   "name": "Python [Root]"
  },
  "language_info": {
   "codemirror_mode": {
    "name": "ipython",
    "version": 3
   },
   "file_extension": ".py",
   "mimetype": "text/x-python",
   "name": "python",
   "nbconvert_exporter": "python",
   "pygments_lexer": "ipython3",
   "version": "3.5.1"
  }
 },
 "nbformat": 4,
 "nbformat_minor": 0
}
